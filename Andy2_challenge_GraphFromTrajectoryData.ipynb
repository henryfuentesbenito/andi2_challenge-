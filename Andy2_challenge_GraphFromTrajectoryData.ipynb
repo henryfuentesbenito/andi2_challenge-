{
  "nbformat": 4,
  "nbformat_minor": 0,
  "metadata": {
    "colab": {
      "provenance": [],
      "toc_visible": true,
      "gpuType": "T4",
      "authorship_tag": "ABX9TyNAhVCZavox+JMeNbgOlA2w",
      "include_colab_link": true
    },
    "kernelspec": {
      "name": "python3",
      "display_name": "Python 3"
    },
    "language_info": {
      "name": "python"
    },
    "accelerator": "GPU"
  },
  "cells": [
    {
      "cell_type": "markdown",
      "metadata": {
        "id": "view-in-github",
        "colab_type": "text"
      },
      "source": [
        "<a href=\"https://colab.research.google.com/github/henryfuentesbenito/andi2_challenge-/blob/main/Andy2_challenge_GraphFromTrajectoryData.ipynb\" target=\"_parent\"><img src=\"https://colab.research.google.com/assets/colab-badge.svg\" alt=\"Open In Colab\"/></a>"
      ]
    },
    {
      "cell_type": "code",
      "source": [
        "from google.colab import drive\n",
        "drive.mount('/content/drive')"
      ],
      "metadata": {
        "colab": {
          "base_uri": "https://localhost:8080/"
        },
        "id": "dbGTFwr5e0bp",
        "outputId": "d22af0fc-34dd-4db5-f208-15942528e857"
      },
      "execution_count": 1,
      "outputs": [
        {
          "output_type": "stream",
          "name": "stdout",
          "text": [
            "Mounted at /content/drive\n"
          ]
        }
      ]
    },
    {
      "cell_type": "code",
      "execution_count": 2,
      "metadata": {
        "colab": {
          "base_uri": "https://localhost:8080/"
        },
        "collapsed": true,
        "id": "3DISCMs3eskb",
        "outputId": "8299886e-9d6b-4465-b98f-5a14a238ccfd"
      },
      "outputs": [
        {
          "output_type": "stream",
          "name": "stdout",
          "text": [
            "Collecting torch_geometric\n",
            "  Downloading torch_geometric-2.5.3-py3-none-any.whl (1.1 MB)\n",
            "\u001b[2K     \u001b[90m━━━━━━━━━━━━━━━━━━━━━━━━━━━━━━━━━━━━━━━━\u001b[0m \u001b[32m1.1/1.1 MB\u001b[0m \u001b[31m8.9 MB/s\u001b[0m eta \u001b[36m0:00:00\u001b[0m\n",
            "\u001b[?25hRequirement already satisfied: tqdm in /usr/local/lib/python3.10/dist-packages (from torch_geometric) (4.66.4)\n",
            "Requirement already satisfied: numpy in /usr/local/lib/python3.10/dist-packages (from torch_geometric) (1.25.2)\n",
            "Requirement already satisfied: scipy in /usr/local/lib/python3.10/dist-packages (from torch_geometric) (1.11.4)\n",
            "Requirement already satisfied: fsspec in /usr/local/lib/python3.10/dist-packages (from torch_geometric) (2023.6.0)\n",
            "Requirement already satisfied: jinja2 in /usr/local/lib/python3.10/dist-packages (from torch_geometric) (3.1.4)\n",
            "Requirement already satisfied: aiohttp in /usr/local/lib/python3.10/dist-packages (from torch_geometric) (3.9.5)\n",
            "Requirement already satisfied: requests in /usr/local/lib/python3.10/dist-packages (from torch_geometric) (2.31.0)\n",
            "Requirement already satisfied: pyparsing in /usr/local/lib/python3.10/dist-packages (from torch_geometric) (3.1.2)\n",
            "Requirement already satisfied: scikit-learn in /usr/local/lib/python3.10/dist-packages (from torch_geometric) (1.2.2)\n",
            "Requirement already satisfied: psutil>=5.8.0 in /usr/local/lib/python3.10/dist-packages (from torch_geometric) (5.9.5)\n",
            "Requirement already satisfied: aiosignal>=1.1.2 in /usr/local/lib/python3.10/dist-packages (from aiohttp->torch_geometric) (1.3.1)\n",
            "Requirement already satisfied: attrs>=17.3.0 in /usr/local/lib/python3.10/dist-packages (from aiohttp->torch_geometric) (23.2.0)\n",
            "Requirement already satisfied: frozenlist>=1.1.1 in /usr/local/lib/python3.10/dist-packages (from aiohttp->torch_geometric) (1.4.1)\n",
            "Requirement already satisfied: multidict<7.0,>=4.5 in /usr/local/lib/python3.10/dist-packages (from aiohttp->torch_geometric) (6.0.5)\n",
            "Requirement already satisfied: yarl<2.0,>=1.0 in /usr/local/lib/python3.10/dist-packages (from aiohttp->torch_geometric) (1.9.4)\n",
            "Requirement already satisfied: async-timeout<5.0,>=4.0 in /usr/local/lib/python3.10/dist-packages (from aiohttp->torch_geometric) (4.0.3)\n",
            "Requirement already satisfied: MarkupSafe>=2.0 in /usr/local/lib/python3.10/dist-packages (from jinja2->torch_geometric) (2.1.5)\n",
            "Requirement already satisfied: charset-normalizer<4,>=2 in /usr/local/lib/python3.10/dist-packages (from requests->torch_geometric) (3.3.2)\n",
            "Requirement already satisfied: idna<4,>=2.5 in /usr/local/lib/python3.10/dist-packages (from requests->torch_geometric) (3.7)\n",
            "Requirement already satisfied: urllib3<3,>=1.21.1 in /usr/local/lib/python3.10/dist-packages (from requests->torch_geometric) (2.0.7)\n",
            "Requirement already satisfied: certifi>=2017.4.17 in /usr/local/lib/python3.10/dist-packages (from requests->torch_geometric) (2024.2.2)\n",
            "Requirement already satisfied: joblib>=1.1.1 in /usr/local/lib/python3.10/dist-packages (from scikit-learn->torch_geometric) (1.4.2)\n",
            "Requirement already satisfied: threadpoolctl>=2.0.0 in /usr/local/lib/python3.10/dist-packages (from scikit-learn->torch_geometric) (3.5.0)\n",
            "Installing collected packages: torch_geometric\n",
            "Successfully installed torch_geometric-2.5.3\n"
          ]
        }
      ],
      "source": [
        "pip install torch_geometric"
      ]
    },
    {
      "cell_type": "code",
      "source": [
        "import glob\n",
        "import os\n",
        "import pandas as pd\n",
        "\n",
        "def load_trajectory_data_from_folders(main_folder):\n",
        "    all_trajectory_data = []\n",
        "    folder_names = os.listdir(main_folder)\n",
        "    for folder_name in folder_names:\n",
        "        folder_path = os.path.join(main_folder, folder_name)\n",
        "        if os.path.isdir(folder_path):\n",
        "            file_paths = glob.glob(os.path.join(folder_path, '*.csv'))\n",
        "            for file_path in file_paths:\n",
        "                trajectory_data = pd.read_csv(file_path)\n",
        "                all_trajectory_data.append(trajectory_data)\n",
        "    return all_trajectory_data\n",
        "\n",
        "# Ruta de la carpeta principal que contiene las subcarpetas con archivos csv\n",
        "main_folder = '/content/drive/MyDrive/andi2_dataset6/ref/track_2'\n",
        "\n",
        "# Cargar datos de trayectorias desde las subcarpetas con archivos csv\n",
        "trajectory_data_list = load_trajectory_data_from_folders(main_folder)"
      ],
      "metadata": {
        "id": "XJzAWneHe9eo"
      },
      "execution_count": 16,
      "outputs": []
    },
    {
      "cell_type": "code",
      "source": [
        "len(trajectory_data_list)"
      ],
      "metadata": {
        "colab": {
          "base_uri": "https://localhost:8080/"
        },
        "id": "7cS97twAfCuP",
        "outputId": "4a673c8d-c30f-45cb-a8eb-4f0496b5e7b8"
      },
      "execution_count": 4,
      "outputs": [
        {
          "output_type": "execute_result",
          "data": {
            "text/plain": [
              "60"
            ]
          },
          "metadata": {},
          "execution_count": 4
        }
      ]
    },
    {
      "cell_type": "code",
      "source": [
        "trajectory_data_list[0]"
      ],
      "metadata": {
        "colab": {
          "base_uri": "https://localhost:8080/",
          "height": 423
        },
        "id": "iP1ZHXVlfHx5",
        "outputId": "966a7422-63eb-4faa-df9b-2b20fd7aeda3",
        "collapsed": true
      },
      "execution_count": 15,
      "outputs": [
        {
          "output_type": "execute_result",
          "data": {
            "text/plain": [
              "      traj_idx  frame           x          y\n",
              "0          0.0  117.0  207.293228  24.012350\n",
              "1          0.0  118.0  207.455854  23.816246\n",
              "2          0.0  119.0  207.221884  23.649520\n",
              "3          0.0  120.0  208.964227  23.341389\n",
              "4          0.0  121.0  208.716672  25.648786\n",
              "...        ...    ...         ...        ...\n",
              "5640      37.0  195.0  160.510163  94.636454\n",
              "5641      37.0  196.0  159.001391  95.050213\n",
              "5642      37.0  197.0  157.629891  95.083858\n",
              "5643      37.0  198.0  157.493789  96.188235\n",
              "5644      37.0  199.0  156.793114  93.436019\n",
              "\n",
              "[5645 rows x 4 columns]"
            ],
            "text/html": [
              "\n",
              "  <div id=\"df-dab00356-48fa-4596-8684-784141aa1c80\" class=\"colab-df-container\">\n",
              "    <div>\n",
              "<style scoped>\n",
              "    .dataframe tbody tr th:only-of-type {\n",
              "        vertical-align: middle;\n",
              "    }\n",
              "\n",
              "    .dataframe tbody tr th {\n",
              "        vertical-align: top;\n",
              "    }\n",
              "\n",
              "    .dataframe thead th {\n",
              "        text-align: right;\n",
              "    }\n",
              "</style>\n",
              "<table border=\"1\" class=\"dataframe\">\n",
              "  <thead>\n",
              "    <tr style=\"text-align: right;\">\n",
              "      <th></th>\n",
              "      <th>traj_idx</th>\n",
              "      <th>frame</th>\n",
              "      <th>x</th>\n",
              "      <th>y</th>\n",
              "    </tr>\n",
              "  </thead>\n",
              "  <tbody>\n",
              "    <tr>\n",
              "      <th>0</th>\n",
              "      <td>0.0</td>\n",
              "      <td>117.0</td>\n",
              "      <td>207.293228</td>\n",
              "      <td>24.012350</td>\n",
              "    </tr>\n",
              "    <tr>\n",
              "      <th>1</th>\n",
              "      <td>0.0</td>\n",
              "      <td>118.0</td>\n",
              "      <td>207.455854</td>\n",
              "      <td>23.816246</td>\n",
              "    </tr>\n",
              "    <tr>\n",
              "      <th>2</th>\n",
              "      <td>0.0</td>\n",
              "      <td>119.0</td>\n",
              "      <td>207.221884</td>\n",
              "      <td>23.649520</td>\n",
              "    </tr>\n",
              "    <tr>\n",
              "      <th>3</th>\n",
              "      <td>0.0</td>\n",
              "      <td>120.0</td>\n",
              "      <td>208.964227</td>\n",
              "      <td>23.341389</td>\n",
              "    </tr>\n",
              "    <tr>\n",
              "      <th>4</th>\n",
              "      <td>0.0</td>\n",
              "      <td>121.0</td>\n",
              "      <td>208.716672</td>\n",
              "      <td>25.648786</td>\n",
              "    </tr>\n",
              "    <tr>\n",
              "      <th>...</th>\n",
              "      <td>...</td>\n",
              "      <td>...</td>\n",
              "      <td>...</td>\n",
              "      <td>...</td>\n",
              "    </tr>\n",
              "    <tr>\n",
              "      <th>5640</th>\n",
              "      <td>37.0</td>\n",
              "      <td>195.0</td>\n",
              "      <td>160.510163</td>\n",
              "      <td>94.636454</td>\n",
              "    </tr>\n",
              "    <tr>\n",
              "      <th>5641</th>\n",
              "      <td>37.0</td>\n",
              "      <td>196.0</td>\n",
              "      <td>159.001391</td>\n",
              "      <td>95.050213</td>\n",
              "    </tr>\n",
              "    <tr>\n",
              "      <th>5642</th>\n",
              "      <td>37.0</td>\n",
              "      <td>197.0</td>\n",
              "      <td>157.629891</td>\n",
              "      <td>95.083858</td>\n",
              "    </tr>\n",
              "    <tr>\n",
              "      <th>5643</th>\n",
              "      <td>37.0</td>\n",
              "      <td>198.0</td>\n",
              "      <td>157.493789</td>\n",
              "      <td>96.188235</td>\n",
              "    </tr>\n",
              "    <tr>\n",
              "      <th>5644</th>\n",
              "      <td>37.0</td>\n",
              "      <td>199.0</td>\n",
              "      <td>156.793114</td>\n",
              "      <td>93.436019</td>\n",
              "    </tr>\n",
              "  </tbody>\n",
              "</table>\n",
              "<p>5645 rows × 4 columns</p>\n",
              "</div>\n",
              "    <div class=\"colab-df-buttons\">\n",
              "\n",
              "  <div class=\"colab-df-container\">\n",
              "    <button class=\"colab-df-convert\" onclick=\"convertToInteractive('df-dab00356-48fa-4596-8684-784141aa1c80')\"\n",
              "            title=\"Convert this dataframe to an interactive table.\"\n",
              "            style=\"display:none;\">\n",
              "\n",
              "  <svg xmlns=\"http://www.w3.org/2000/svg\" height=\"24px\" viewBox=\"0 -960 960 960\">\n",
              "    <path d=\"M120-120v-720h720v720H120Zm60-500h600v-160H180v160Zm220 220h160v-160H400v160Zm0 220h160v-160H400v160ZM180-400h160v-160H180v160Zm440 0h160v-160H620v160ZM180-180h160v-160H180v160Zm440 0h160v-160H620v160Z\"/>\n",
              "  </svg>\n",
              "    </button>\n",
              "\n",
              "  <style>\n",
              "    .colab-df-container {\n",
              "      display:flex;\n",
              "      gap: 12px;\n",
              "    }\n",
              "\n",
              "    .colab-df-convert {\n",
              "      background-color: #E8F0FE;\n",
              "      border: none;\n",
              "      border-radius: 50%;\n",
              "      cursor: pointer;\n",
              "      display: none;\n",
              "      fill: #1967D2;\n",
              "      height: 32px;\n",
              "      padding: 0 0 0 0;\n",
              "      width: 32px;\n",
              "    }\n",
              "\n",
              "    .colab-df-convert:hover {\n",
              "      background-color: #E2EBFA;\n",
              "      box-shadow: 0px 1px 2px rgba(60, 64, 67, 0.3), 0px 1px 3px 1px rgba(60, 64, 67, 0.15);\n",
              "      fill: #174EA6;\n",
              "    }\n",
              "\n",
              "    .colab-df-buttons div {\n",
              "      margin-bottom: 4px;\n",
              "    }\n",
              "\n",
              "    [theme=dark] .colab-df-convert {\n",
              "      background-color: #3B4455;\n",
              "      fill: #D2E3FC;\n",
              "    }\n",
              "\n",
              "    [theme=dark] .colab-df-convert:hover {\n",
              "      background-color: #434B5C;\n",
              "      box-shadow: 0px 1px 3px 1px rgba(0, 0, 0, 0.15);\n",
              "      filter: drop-shadow(0px 1px 2px rgba(0, 0, 0, 0.3));\n",
              "      fill: #FFFFFF;\n",
              "    }\n",
              "  </style>\n",
              "\n",
              "    <script>\n",
              "      const buttonEl =\n",
              "        document.querySelector('#df-dab00356-48fa-4596-8684-784141aa1c80 button.colab-df-convert');\n",
              "      buttonEl.style.display =\n",
              "        google.colab.kernel.accessAllowed ? 'block' : 'none';\n",
              "\n",
              "      async function convertToInteractive(key) {\n",
              "        const element = document.querySelector('#df-dab00356-48fa-4596-8684-784141aa1c80');\n",
              "        const dataTable =\n",
              "          await google.colab.kernel.invokeFunction('convertToInteractive',\n",
              "                                                    [key], {});\n",
              "        if (!dataTable) return;\n",
              "\n",
              "        const docLinkHtml = 'Like what you see? Visit the ' +\n",
              "          '<a target=\"_blank\" href=https://colab.research.google.com/notebooks/data_table.ipynb>data table notebook</a>'\n",
              "          + ' to learn more about interactive tables.';\n",
              "        element.innerHTML = '';\n",
              "        dataTable['output_type'] = 'display_data';\n",
              "        await google.colab.output.renderOutput(dataTable, element);\n",
              "        const docLink = document.createElement('div');\n",
              "        docLink.innerHTML = docLinkHtml;\n",
              "        element.appendChild(docLink);\n",
              "      }\n",
              "    </script>\n",
              "  </div>\n",
              "\n",
              "\n",
              "<div id=\"df-2e1b7ec7-f2cd-4fd9-983a-95d9bad55923\">\n",
              "  <button class=\"colab-df-quickchart\" onclick=\"quickchart('df-2e1b7ec7-f2cd-4fd9-983a-95d9bad55923')\"\n",
              "            title=\"Suggest charts\"\n",
              "            style=\"display:none;\">\n",
              "\n",
              "<svg xmlns=\"http://www.w3.org/2000/svg\" height=\"24px\"viewBox=\"0 0 24 24\"\n",
              "     width=\"24px\">\n",
              "    <g>\n",
              "        <path d=\"M19 3H5c-1.1 0-2 .9-2 2v14c0 1.1.9 2 2 2h14c1.1 0 2-.9 2-2V5c0-1.1-.9-2-2-2zM9 17H7v-7h2v7zm4 0h-2V7h2v10zm4 0h-2v-4h2v4z\"/>\n",
              "    </g>\n",
              "</svg>\n",
              "  </button>\n",
              "\n",
              "<style>\n",
              "  .colab-df-quickchart {\n",
              "      --bg-color: #E8F0FE;\n",
              "      --fill-color: #1967D2;\n",
              "      --hover-bg-color: #E2EBFA;\n",
              "      --hover-fill-color: #174EA6;\n",
              "      --disabled-fill-color: #AAA;\n",
              "      --disabled-bg-color: #DDD;\n",
              "  }\n",
              "\n",
              "  [theme=dark] .colab-df-quickchart {\n",
              "      --bg-color: #3B4455;\n",
              "      --fill-color: #D2E3FC;\n",
              "      --hover-bg-color: #434B5C;\n",
              "      --hover-fill-color: #FFFFFF;\n",
              "      --disabled-bg-color: #3B4455;\n",
              "      --disabled-fill-color: #666;\n",
              "  }\n",
              "\n",
              "  .colab-df-quickchart {\n",
              "    background-color: var(--bg-color);\n",
              "    border: none;\n",
              "    border-radius: 50%;\n",
              "    cursor: pointer;\n",
              "    display: none;\n",
              "    fill: var(--fill-color);\n",
              "    height: 32px;\n",
              "    padding: 0;\n",
              "    width: 32px;\n",
              "  }\n",
              "\n",
              "  .colab-df-quickchart:hover {\n",
              "    background-color: var(--hover-bg-color);\n",
              "    box-shadow: 0 1px 2px rgba(60, 64, 67, 0.3), 0 1px 3px 1px rgba(60, 64, 67, 0.15);\n",
              "    fill: var(--button-hover-fill-color);\n",
              "  }\n",
              "\n",
              "  .colab-df-quickchart-complete:disabled,\n",
              "  .colab-df-quickchart-complete:disabled:hover {\n",
              "    background-color: var(--disabled-bg-color);\n",
              "    fill: var(--disabled-fill-color);\n",
              "    box-shadow: none;\n",
              "  }\n",
              "\n",
              "  .colab-df-spinner {\n",
              "    border: 2px solid var(--fill-color);\n",
              "    border-color: transparent;\n",
              "    border-bottom-color: var(--fill-color);\n",
              "    animation:\n",
              "      spin 1s steps(1) infinite;\n",
              "  }\n",
              "\n",
              "  @keyframes spin {\n",
              "    0% {\n",
              "      border-color: transparent;\n",
              "      border-bottom-color: var(--fill-color);\n",
              "      border-left-color: var(--fill-color);\n",
              "    }\n",
              "    20% {\n",
              "      border-color: transparent;\n",
              "      border-left-color: var(--fill-color);\n",
              "      border-top-color: var(--fill-color);\n",
              "    }\n",
              "    30% {\n",
              "      border-color: transparent;\n",
              "      border-left-color: var(--fill-color);\n",
              "      border-top-color: var(--fill-color);\n",
              "      border-right-color: var(--fill-color);\n",
              "    }\n",
              "    40% {\n",
              "      border-color: transparent;\n",
              "      border-right-color: var(--fill-color);\n",
              "      border-top-color: var(--fill-color);\n",
              "    }\n",
              "    60% {\n",
              "      border-color: transparent;\n",
              "      border-right-color: var(--fill-color);\n",
              "    }\n",
              "    80% {\n",
              "      border-color: transparent;\n",
              "      border-right-color: var(--fill-color);\n",
              "      border-bottom-color: var(--fill-color);\n",
              "    }\n",
              "    90% {\n",
              "      border-color: transparent;\n",
              "      border-bottom-color: var(--fill-color);\n",
              "    }\n",
              "  }\n",
              "</style>\n",
              "\n",
              "  <script>\n",
              "    async function quickchart(key) {\n",
              "      const quickchartButtonEl =\n",
              "        document.querySelector('#' + key + ' button');\n",
              "      quickchartButtonEl.disabled = true;  // To prevent multiple clicks.\n",
              "      quickchartButtonEl.classList.add('colab-df-spinner');\n",
              "      try {\n",
              "        const charts = await google.colab.kernel.invokeFunction(\n",
              "            'suggestCharts', [key], {});\n",
              "      } catch (error) {\n",
              "        console.error('Error during call to suggestCharts:', error);\n",
              "      }\n",
              "      quickchartButtonEl.classList.remove('colab-df-spinner');\n",
              "      quickchartButtonEl.classList.add('colab-df-quickchart-complete');\n",
              "    }\n",
              "    (() => {\n",
              "      let quickchartButtonEl =\n",
              "        document.querySelector('#df-2e1b7ec7-f2cd-4fd9-983a-95d9bad55923 button');\n",
              "      quickchartButtonEl.style.display =\n",
              "        google.colab.kernel.accessAllowed ? 'block' : 'none';\n",
              "    })();\n",
              "  </script>\n",
              "</div>\n",
              "    </div>\n",
              "  </div>\n"
            ],
            "application/vnd.google.colaboratory.intrinsic+json": {
              "type": "dataframe",
              "summary": "{\n  \"name\": \"trajectory_data_list[0]\",\n  \"rows\": 5645,\n  \"fields\": [\n    {\n      \"column\": \"traj_idx\",\n      \"properties\": {\n        \"dtype\": \"number\",\n        \"std\": 11.676704039390712,\n        \"min\": 0.0,\n        \"max\": 37.0,\n        \"num_unique_values\": 38,\n        \"samples\": [\n          33.0,\n          36.0,\n          4.0\n        ],\n        \"semantic_type\": \"\",\n        \"description\": \"\"\n      }\n    },\n    {\n      \"column\": \"frame\",\n      \"properties\": {\n        \"dtype\": \"number\",\n        \"std\": 56.634118157326085,\n        \"min\": 0.0,\n        \"max\": 199.0,\n        \"num_unique_values\": 200,\n        \"samples\": [\n          12.0,\n          132.0,\n          147.0\n        ],\n        \"semantic_type\": \"\",\n        \"description\": \"\"\n      }\n    },\n    {\n      \"column\": \"x\",\n      \"properties\": {\n        \"dtype\": \"number\",\n        \"std\": 35.65099983799941,\n        \"min\": 81.11379458057806,\n        \"max\": 208.96422725753223,\n        \"num_unique_values\": 5645,\n        \"samples\": [\n          106.5282339887258,\n          184.5635282730466,\n          202.0401256505012\n        ],\n        \"semantic_type\": \"\",\n        \"description\": \"\"\n      }\n    },\n    {\n      \"column\": \"y\",\n      \"properties\": {\n        \"dtype\": \"number\",\n        \"std\": 39.3388557797122,\n        \"min\": 20.88311677706762,\n        \"max\": 148.8900868434381,\n        \"num_unique_values\": 5645,\n        \"samples\": [\n          39.58925703528416,\n          81.01703388000895,\n          133.09634590309577\n        ],\n        \"semantic_type\": \"\",\n        \"description\": \"\"\n      }\n    }\n  ]\n}"
            }
          },
          "metadata": {},
          "execution_count": 15
        }
      ]
    },
    {
      "cell_type": "markdown",
      "source": [
        "______________________________________________________________________________________________________________\n",
        "____________________________________________________________________________________________________\n",
        "___________________________________________________________________________________________________________\n",
        "________________________________________________________________________________________________________\n",
        "____________________________________________________________________________________________________"
      ],
      "metadata": {
        "id": "96KkKzE7CIql"
      }
    },
    {
      "cell_type": "markdown",
      "source": [
        "**primer intento de codigo de la class GraphFromTrajectoryData modificado**"
      ],
      "metadata": {
        "id": "0gHISxMdCZ5G"
      }
    },
    {
      "cell_type": "code",
      "source": [
        "import numpy as np\n",
        "import torch\n",
        "from skimage import measure\n",
        "from torch_geometric.data import Data\n",
        "\n",
        "class GraphFromTrajectoryData:\n",
        "    \"\"\"Graph representation of particle trajectories.\"\"\"\n",
        "\n",
        "    def __init__(self, connectivity_radius, max_frame_distance):\n",
        "        \"\"\"Initialize graph constructor.\"\"\"\n",
        "        self.connectivity_radius = connectivity_radius\n",
        "        self.max_frame_distance = max_frame_distance\n",
        "\n",
        "    def __call__(self, trajectory):\n",
        "        \"\"\"Construct graph from a single trajectory.\"\"\"\n",
        "        graph = self.construct_graph(trajectory)\n",
        "        return graph\n",
        "\n",
        "    def construct_graph(self, trajectory):\n",
        "        \"\"\"Construct graph from a single trajectory.\"\"\"\n",
        "        x, edge_index, edge_attr = [], [], []\n",
        "\n",
        "        # Compute node features\n",
        "        features, index_labels = self.compute_node_features(trajectory)\n",
        "        x.extend(features)\n",
        "        node_indices = np.arange(len(features))\n",
        "\n",
        "        # Compute connectivity\n",
        "        edge_index, edge_attr = self.compute_connectivity(features, node_indices)\n",
        "\n",
        "        x = torch.tensor(np.array(x), dtype=torch.float)\n",
        "        edge_index = torch.tensor(edge_index, dtype=torch.long).t().contiguous()\n",
        "        edge_attr = torch.tensor(edge_attr, dtype=torch.float).view(-1, 1)\n",
        "\n",
        "        # Construct Data object\n",
        "        graph = Data(x=x, edge_index=edge_index, edge_attr=edge_attr)\n",
        "\n",
        "        return graph\n",
        "\n",
        "    def compute_node_features(self, trajectory):\n",
        "        \"\"\"Compute node features.\"\"\"\n",
        "        features = trajectory[['x', 'y']].values  # Coordenadas de la trayectoria\n",
        "        return features, [trajectory['traj_idx'].iloc[0]]\n",
        "\n",
        "    def compute_connectivity(self, features, node_indices):\n",
        "        \"\"\"Compute connectivity.\"\"\"\n",
        "        edge_index = []\n",
        "        edge_attr = []\n",
        "        num_nodes = len(features)\n",
        "\n",
        "        for i in range(num_nodes):\n",
        "            for j in range(i + 1, num_nodes):\n",
        "                distance = np.linalg.norm(features[i] - features[j])\n",
        "                if distance < self.connectivity_radius:\n",
        "                    edge_index.append([node_indices[i], node_indices[j]])\n",
        "                    edge_attr.append(distance)\n",
        "\n",
        "        return edge_index, edge_attr\n"
      ],
      "metadata": {
        "id": "nHe33FRxqMI1"
      },
      "execution_count": 17,
      "outputs": []
    },
    {
      "cell_type": "code",
      "source": [
        "trajectory_graphs = []\n",
        "\n",
        "# Aquí va el código para cargar los datos de trayectorias en `trajectory_data_list`\n",
        "\n",
        "# Luego, se itera sobre cada DataFrame en la lista y construyes los grafos\n",
        "for trajectory_data in trajectory_data_list:\n",
        "    # Construir el grafo a partir de los datos de trayectoria\n",
        "    graph = GraphFromTrajectoryData(connectivity_radius=0.6, max_frame_distance=2)(trajectory_data)\n",
        "    trajectory_graphs.append(graph)"
      ],
      "metadata": {
        "id": "WEz3IE12xzey"
      },
      "execution_count": 18,
      "outputs": []
    },
    {
      "cell_type": "code",
      "source": [
        "trajectory_graphs"
      ],
      "metadata": {
        "colab": {
          "base_uri": "https://localhost:8080/"
        },
        "id": "yTZw-UJWD_xI",
        "outputId": "955f8d4a-2393-4c05-f7b0-e0eeb62d8bdd"
      },
      "execution_count": 19,
      "outputs": [
        {
          "output_type": "execute_result",
          "data": {
            "text/plain": [
              "[Data(x=[5519, 2], edge_index=[2, 4289], edge_attr=[4289, 1]),\n",
              " Data(x=[4919, 2], edge_index=[2, 5036], edge_attr=[5036, 1]),\n",
              " Data(x=[5739, 2], edge_index=[2, 4744], edge_attr=[4744, 1])]"
            ]
          },
          "metadata": {},
          "execution_count": 19
        }
      ]
    },
    {
      "cell_type": "markdown",
      "source": [
        "__________________________________________________________________________________________\n",
        "____________________________________________________________________________________________\n",
        "_________________________________________________________________________________________\n",
        "____________________________________________________________________________________________"
      ],
      "metadata": {
        "id": "HCjFRKZt7lQK"
      }
    },
    {
      "cell_type": "markdown",
      "source": [
        "**Codigo corregido con resultados adecuados**"
      ],
      "metadata": {
        "id": "ChlbKiLp8P7o"
      }
    },
    {
      "cell_type": "code",
      "source": [
        "import numpy as np\n",
        "import torch\n",
        "from skimage import measure\n",
        "from torch_geometric.data import Data\n",
        "\n",
        "class GraphFromTrajectoryData:\n",
        "    \"\"\"Graph representation of particle trajectories.\"\"\"\n",
        "\n",
        "    def __init__(self, connectivity_radius, max_frame_distance):\n",
        "        \"\"\"Initialize graph constructor.\"\"\"\n",
        "        self.connectivity_radius = connectivity_radius\n",
        "        self.max_frame_distance = max_frame_distance\n",
        "\n",
        "    def __call__(self, trajectory):\n",
        "        \"\"\"Construct graph from a single trajectory.\"\"\"\n",
        "        graph = self.construct_graph(trajectory)\n",
        "        return graph\n",
        "\n",
        "    def construct_graph(self, trajectory):\n",
        "        \"\"\"Construct graph from a single trajectory.\"\"\"\n",
        "        x, edge_index, edge_attr = [], [], []\n",
        "\n",
        "        # Compute node features\n",
        "        features, index_labels = self.compute_node_features(trajectory)\n",
        "        x.extend(features)\n",
        "        node_indices = np.arange(len(features))\n",
        "\n",
        "        # Compute connectivity\n",
        "        edge_index, edge_attr = self.compute_connectivity(features, node_indices)\n",
        "\n",
        "        x = torch.tensor(np.array(x), dtype=torch.float)\n",
        "        edge_index = torch.tensor(edge_index, dtype=torch.long).t().contiguous()\n",
        "        edge_attr = torch.tensor(edge_attr, dtype=torch.float).view(-1, 1)\n",
        "\n",
        "        # Construct Data object\n",
        "        graph = Data(x=x, edge_index=edge_index, edge_attr=edge_attr)\n",
        "\n",
        "        return graph\n",
        "\n",
        "\n",
        "\n",
        "    def compute_node_features(self, trajectory):\n",
        "      \"\"\"Compute node features.\"\"\"\n",
        "      features = trajectory[['x', 'y', 'frame']].values  # Coordenadas de la trayectoria y número de fotograma\n",
        "      return features, [trajectory['traj_idx'].iloc[0]]\n",
        "\n",
        "\n",
        "\n",
        "    def compute_connectivity(self, features, node_indices):\n",
        "        \"\"\"Compute connectivity.\"\"\"\n",
        "        edge_index = []\n",
        "        edge_attr = []\n",
        "        num_nodes = len(features)\n",
        "\n",
        "        for i in range(num_nodes):\n",
        "            for j in range(i + 1, num_nodes):\n",
        "                distance = np.linalg.norm(features[i][:2] - features[j][:2])\n",
        "                frame_distance = abs(features[i][2] - features[j][2])  # Diferencia entre fotogramas\n",
        "                if distance < self.connectivity_radius and frame_distance <= self.max_frame_distance:\n",
        "                    edge_index.append([node_indices[i], node_indices[j]])\n",
        "                    edge_attr.append(distance)\n",
        "\n",
        "        return edge_index, edge_attr\n"
      ],
      "metadata": {
        "id": "h2f11Y_Xkv5Z"
      },
      "execution_count": 20,
      "outputs": []
    },
    {
      "cell_type": "code",
      "source": [
        "trajectory_graphs = []\n",
        "\n",
        "# Iterar sobre cada DataFrame en la lista de datos de trayectorias\n",
        "for trajectory_data in trajectory_data_list:\n",
        "    # Construir el grafo a partir de los datos de trayectoria\n",
        "    graph = GraphFromTrajectoryData(connectivity_radius=0.6, max_frame_distance=2)(trajectory_data)\n",
        "    trajectory_graphs.append(graph)"
      ],
      "metadata": {
        "id": "jqtwBfxHELSI"
      },
      "execution_count": 21,
      "outputs": []
    },
    {
      "cell_type": "code",
      "source": [
        "trajectory_graphs[0]"
      ],
      "metadata": {
        "colab": {
          "base_uri": "https://localhost:8080/"
        },
        "id": "MUTViVHRFban",
        "outputId": "021e2f18-895b-42b3-ce4c-eb27e1ff7afb"
      },
      "execution_count": 23,
      "outputs": [
        {
          "output_type": "execute_result",
          "data": {
            "text/plain": [
              "Data(x=[5519, 3], edge_index=[2, 791], edge_attr=[791, 1])"
            ]
          },
          "metadata": {},
          "execution_count": 23
        }
      ]
    },
    {
      "cell_type": "code",
      "source": [
        "trajectory_graphs_grouped = [[] for _ in range(len(trajectory_data_list))]\n",
        "\n",
        "for i, trajectory_data in enumerate(trajectory_data_list):\n",
        "    # Agrupar los datos de trayectorias por 'traj_idx'\n",
        "    grouped_trajectories = trajectory_data.groupby('traj_idx')\n",
        "\n",
        "    # Iterar sobre cada grupo de trayectorias\n",
        "    for traj_idx, group in grouped_trajectories:\n",
        "        # Construir el grafo para el grupo actual\n",
        "        graph = GraphFromTrajectoryData(connectivity_radius=0.6, max_frame_distance=2)(group)\n",
        "        trajectory_graphs_grouped[i].append((traj_idx, graph))"
      ],
      "metadata": {
        "id": "oPOXTmY24c2F"
      },
      "execution_count": 7,
      "outputs": []
    },
    {
      "cell_type": "code",
      "source": [
        "trajectory_graphs_grouped"
      ],
      "metadata": {
        "id": "-xzhcBlTF552"
      },
      "execution_count": null,
      "outputs": []
    },
    {
      "cell_type": "code",
      "source": [
        "trajectory_graphs_grouped[0]"
      ],
      "metadata": {
        "colab": {
          "base_uri": "https://localhost:8080/"
        },
        "id": "qXm9tdVY4iPV",
        "outputId": "458e857b-dc60-442c-e4ee-7f6243cff49c"
      },
      "execution_count": 8,
      "outputs": [
        {
          "output_type": "execute_result",
          "data": {
            "text/plain": [
              "[(0.0, Data(x=[83, 3], edge_index=[2, 21], edge_attr=[21, 1])),\n",
              " (1.0, Data(x=[200, 3], edge_index=[2, 33], edge_attr=[33, 1])),\n",
              " (2.0, Data(x=[200, 3], edge_index=[2, 29], edge_attr=[29, 1])),\n",
              " (3.0, Data(x=[200, 3], edge_index=[2, 30], edge_attr=[30, 1])),\n",
              " (4.0, Data(x=[141, 3], edge_index=[2, 25], edge_attr=[25, 1])),\n",
              " (5.0, Data(x=[200, 3], edge_index=[2, 22], edge_attr=[22, 1])),\n",
              " (6.0, Data(x=[72, 3], edge_index=[2, 12], edge_attr=[12, 1])),\n",
              " (7.0, Data(x=[200, 3], edge_index=[2, 17], edge_attr=[17, 1])),\n",
              " (8.0, Data(x=[200, 3], edge_index=[2, 35], edge_attr=[35, 1])),\n",
              " (9.0, Data(x=[200, 3], edge_index=[2, 22], edge_attr=[22, 1])),\n",
              " (10.0, Data(x=[33, 3], edge_index=[2, 3], edge_attr=[3, 1])),\n",
              " (11.0, Data(x=[200, 3], edge_index=[2, 31], edge_attr=[31, 1])),\n",
              " (12.0, Data(x=[200, 3], edge_index=[2, 15], edge_attr=[15, 1])),\n",
              " (13.0, Data(x=[116, 3], edge_index=[2, 16], edge_attr=[16, 1])),\n",
              " (14.0, Data(x=[76, 3], edge_index=[2, 13], edge_attr=[13, 1])),\n",
              " (15.0, Data(x=[73, 3], edge_index=[2, 10], edge_attr=[10, 1])),\n",
              " (16.0, Data(x=[59, 3], edge_index=[2, 8], edge_attr=[8, 1])),\n",
              " (17.0, Data(x=[40, 3], edge_index=[2, 3], edge_attr=[3, 1])),\n",
              " (18.0, Data(x=[67, 3], edge_index=[2, 9], edge_attr=[9, 1])),\n",
              " (19.0, Data(x=[200, 3], edge_index=[2, 25], edge_attr=[25, 1])),\n",
              " (20.0, Data(x=[200, 3], edge_index=[2, 30], edge_attr=[30, 1])),\n",
              " (21.0, Data(x=[200, 3], edge_index=[2, 25], edge_attr=[25, 1])),\n",
              " (22.0, Data(x=[200, 3], edge_index=[2, 25], edge_attr=[25, 1])),\n",
              " (23.0, Data(x=[180, 3], edge_index=[2, 27], edge_attr=[27, 1])),\n",
              " (24.0, Data(x=[200, 3], edge_index=[2, 36], edge_attr=[36, 1])),\n",
              " (25.0, Data(x=[20, 3], edge_index=[2, 2], edge_attr=[2, 1])),\n",
              " (26.0, Data(x=[21, 3], edge_index=[2, 4], edge_attr=[4, 1])),\n",
              " (27.0, Data(x=[36, 3], edge_index=[2, 3], edge_attr=[3, 1])),\n",
              " (28.0, Data(x=[200, 3], edge_index=[2, 37], edge_attr=[37, 1])),\n",
              " (29.0, Data(x=[39, 3], edge_index=[2, 4], edge_attr=[4, 1])),\n",
              " (30.0, Data(x=[200, 3], edge_index=[2, 35], edge_attr=[35, 1])),\n",
              " (31.0, Data(x=[200, 3], edge_index=[2, 39], edge_attr=[39, 1])),\n",
              " (32.0, Data(x=[200, 3], edge_index=[2, 27], edge_attr=[27, 1])),\n",
              " (33.0, Data(x=[200, 3], edge_index=[2, 41], edge_attr=[41, 1])),\n",
              " (34.0, Data(x=[200, 3], edge_index=[2, 21], edge_attr=[21, 1])),\n",
              " (35.0, Data(x=[200, 3], edge_index=[2, 33], edge_attr=[33, 1])),\n",
              " (36.0, Data(x=[189, 3], edge_index=[2, 23], edge_attr=[23, 1])),\n",
              " (37.0, Data(x=[200, 3], edge_index=[2, 39], edge_attr=[39, 1]))]"
            ]
          },
          "metadata": {},
          "execution_count": 8
        }
      ]
    },
    {
      "cell_type": "code",
      "source": [
        "trajectory_graphs_grouped[1]"
      ],
      "metadata": {
        "colab": {
          "base_uri": "https://localhost:8080/"
        },
        "id": "Z67HNmii8xnQ",
        "outputId": "56811c12-7414-4a21-9f28-3b1296dadeb9"
      },
      "execution_count": 9,
      "outputs": [
        {
          "output_type": "execute_result",
          "data": {
            "text/plain": [
              "[(0.0, Data(x=[200, 3], edge_index=[2, 26], edge_attr=[26, 1])),\n",
              " (1.0, Data(x=[200, 3], edge_index=[2, 30], edge_attr=[30, 1])),\n",
              " (2.0, Data(x=[200, 3], edge_index=[2, 34], edge_attr=[34, 1])),\n",
              " (3.0, Data(x=[200, 3], edge_index=[2, 26], edge_attr=[26, 1])),\n",
              " (4.0, Data(x=[200, 3], edge_index=[2, 20], edge_attr=[20, 1])),\n",
              " (5.0, Data(x=[200, 3], edge_index=[2, 40], edge_attr=[40, 1])),\n",
              " (6.0, Data(x=[200, 3], edge_index=[2, 20], edge_attr=[20, 1])),\n",
              " (7.0, Data(x=[21, 3], edge_index=[2, 2], edge_attr=[2, 1])),\n",
              " (8.0, Data(x=[105, 3], edge_index=[2, 9], edge_attr=[9, 1])),\n",
              " (9.0, Data(x=[200, 3], edge_index=[2, 33], edge_attr=[33, 1])),\n",
              " (10.0, Data(x=[200, 3], edge_index=[2, 33], edge_attr=[33, 1])),\n",
              " (11.0, Data(x=[39, 3], edge_index=[2, 7], edge_attr=[7, 1])),\n",
              " (12.0, Data(x=[200, 3], edge_index=[2, 36], edge_attr=[36, 1])),\n",
              " (13.0, Data(x=[29, 3], edge_index=[2, 2], edge_attr=[2, 1])),\n",
              " (14.0, Data(x=[55, 3], edge_index=[2, 3], edge_attr=[3, 1])),\n",
              " (15.0, Data(x=[27, 3], edge_index=[2, 6], edge_attr=[6, 1])),\n",
              " (16.0, Data(x=[31, 3], edge_index=[2, 4], edge_attr=[4, 1])),\n",
              " (17.0, Data(x=[164, 3], edge_index=[2, 22], edge_attr=[22, 1])),\n",
              " (18.0, Data(x=[144, 3], edge_index=[2, 13], edge_attr=[13, 1])),\n",
              " (19.0, Data(x=[22, 3], edge_index=[2, 1], edge_attr=[1, 1])),\n",
              " (20.0, Data(x=[200, 3], edge_index=[2, 23], edge_attr=[23, 1])),\n",
              " (21.0, Data(x=[48, 3], edge_index=[2, 3], edge_attr=[3, 1])),\n",
              " (22.0, Data(x=[80, 3], edge_index=[2, 12], edge_attr=[12, 1])),\n",
              " (23.0, Data(x=[45, 3], edge_index=[2, 15], edge_attr=[15, 1])),\n",
              " (24.0, Data(x=[200, 3], edge_index=[2, 37], edge_attr=[37, 1])),\n",
              " (25.0, Data(x=[200, 3], edge_index=[2, 20], edge_attr=[20, 1])),\n",
              " (26.0, Data(x=[200, 3], edge_index=[2, 28], edge_attr=[28, 1])),\n",
              " (27.0, Data(x=[200, 3], edge_index=[2, 34], edge_attr=[34, 1])),\n",
              " (28.0, Data(x=[94, 3], edge_index=[2, 21], edge_attr=[21, 1])),\n",
              " (29.0, Data(x=[200, 3], edge_index=[2, 29], edge_attr=[29, 1])),\n",
              " (30.0, Data(x=[125, 3], edge_index=[2, 16], edge_attr=[16, 1]))]"
            ]
          },
          "metadata": {},
          "execution_count": 9
        }
      ]
    },
    {
      "cell_type": "markdown",
      "source": [
        "________________________________________________________________________________________________________________________\n",
        "______________________________________________________________________________________________________________\n",
        "________________________________________________________________________________________________________________\n",
        "_______________________________________________________________________________________________________________\n",
        "___________________________________________________________________________________________________\n",
        "________________________________________________________________________________________________________________\n",
        "_______________________________________________________________________________________________"
      ],
      "metadata": {
        "id": "iS-gRX-m8A_h"
      }
    },
    {
      "cell_type": "markdown",
      "source": [
        "** codigos de prueba**"
      ],
      "metadata": {
        "id": "lki_xr5N9Ylo"
      }
    },
    {
      "cell_type": "code",
      "source": [
        "trajectory_graphs = []\n",
        "\n",
        "for trajectory_data in trajectory_data_list:\n",
        "    # Agrupar los datos de trayectorias por 'traj_idx'\n",
        "    grouped_trajectories = trajectory_data.groupby('traj_idx')\n",
        "\n",
        "    # Iterar sobre cada grupo de trayectorias\n",
        "    for traj_idx, group in grouped_trajectories:\n",
        "        # Construir el grafo para el grupo actual\n",
        "        graph = GraphFromTrajectoryData(connectivity_radius=0.6, max_frame_distance=2)(group)\n",
        "        trajectory_graphs.append((traj_idx, graph))"
      ],
      "metadata": {
        "id": "fdI_0CSC0R5z"
      },
      "execution_count": 49,
      "outputs": []
    },
    {
      "cell_type": "code",
      "source": [
        "trajectory_graphs[0]"
      ],
      "metadata": {
        "colab": {
          "base_uri": "https://localhost:8080/"
        },
        "collapsed": true,
        "id": "tQA8Ebuy0Wig",
        "outputId": "0ed92e8f-e106-42dc-ec55-c479e6bc2012"
      },
      "execution_count": 55,
      "outputs": [
        {
          "output_type": "execute_result",
          "data": {
            "text/plain": [
              "[(0.0, Data(x=[200, 3], edge_index=[2, 32], edge_attr=[32, 1])),\n",
              " (1.0, Data(x=[200, 3], edge_index=[2, 29], edge_attr=[29, 1])),\n",
              " (2.0, Data(x=[45, 3], edge_index=[2, 6], edge_attr=[6, 1])),\n",
              " (3.0, Data(x=[148, 3], edge_index=[2, 21], edge_attr=[21, 1])),\n",
              " (4.0, Data(x=[200, 3], edge_index=[2, 19], edge_attr=[19, 1])),\n",
              " (5.0, Data(x=[63, 3], edge_index=[2, 8], edge_attr=[8, 1])),\n",
              " (6.0, Data(x=[188, 3], edge_index=[2, 35], edge_attr=[35, 1])),\n",
              " (7.0, Data(x=[200, 3], edge_index=[2, 27], edge_attr=[27, 1])),\n",
              " (8.0, Data(x=[200, 3], edge_index=[2, 28], edge_attr=[28, 1])),\n",
              " (9.0, Data(x=[102, 3], edge_index=[2, 11], edge_attr=[11, 1])),\n",
              " (10.0, Data(x=[200, 3], edge_index=[2, 19], edge_attr=[19, 1])),\n",
              " (11.0, Data(x=[131, 3], edge_index=[2, 21], edge_attr=[21, 1])),\n",
              " (12.0, Data(x=[200, 3], edge_index=[2, 25], edge_attr=[25, 1])),\n",
              " (13.0, Data(x=[50, 3], edge_index=[2, 5], edge_attr=[5, 1])),\n",
              " (14.0, Data(x=[200, 3], edge_index=[2, 17], edge_attr=[17, 1])),\n",
              " (15.0, Data(x=[200, 3], edge_index=[2, 25], edge_attr=[25, 1])),\n",
              " (16.0, Data(x=[71, 3], edge_index=[2, 9], edge_attr=[9, 1])),\n",
              " (17.0, Data(x=[200, 3], edge_index=[2, 28], edge_attr=[28, 1])),\n",
              " (18.0, Data(x=[20, 3], edge_index=[2, 4], edge_attr=[4, 1])),\n",
              " (19.0, Data(x=[27, 3], edge_index=[2, 2], edge_attr=[2, 1])),\n",
              " (20.0, Data(x=[200, 3], edge_index=[2, 24], edge_attr=[24, 1])),\n",
              " (21.0, Data(x=[200, 3], edge_index=[2, 27], edge_attr=[27, 1])),\n",
              " (22.0, Data(x=[200, 3], edge_index=[2, 24], edge_attr=[24, 1])),\n",
              " (23.0, Data(x=[61, 3], edge_index=[2, 8], edge_attr=[8, 1])),\n",
              " (24.0, Data(x=[200, 3], edge_index=[2, 37], edge_attr=[37, 1])),\n",
              " (25.0, Data(x=[200, 3], edge_index=[2, 24], edge_attr=[24, 1])),\n",
              " (26.0, Data(x=[200, 3], edge_index=[2, 17], edge_attr=[17, 1])),\n",
              " (27.0, Data(x=[200, 3], edge_index=[2, 26], edge_attr=[26, 1])),\n",
              " (28.0, Data(x=[76, 3], edge_index=[2, 7], edge_attr=[7, 1])),\n",
              " (29.0, Data(x=[63, 3], edge_index=[2, 12], edge_attr=[12, 1])),\n",
              " (30.0, Data(x=[52, 3], edge_index=[2, 11], edge_attr=[11, 1])),\n",
              " (31.0, Data(x=[200, 3], edge_index=[2, 27], edge_attr=[27, 1])),\n",
              " (32.0, Data(x=[22, 3], edge_index=[2, 1], edge_attr=[1, 1])),\n",
              " (33.0, Data(x=[200, 3], edge_index=[2, 41], edge_attr=[41, 1])),\n",
              " (34.0, Data(x=[200, 3], edge_index=[2, 35], edge_attr=[35, 1])),\n",
              " (35.0, Data(x=[200, 3], edge_index=[2, 40], edge_attr=[40, 1])),\n",
              " (36.0, Data(x=[200, 3], edge_index=[2, 31], edge_attr=[31, 1])),\n",
              " (0.0, Data(x=[200, 3], edge_index=[2, 19], edge_attr=[19, 1])),\n",
              " (1.0, Data(x=[200, 3], edge_index=[2, 27], edge_attr=[27, 1])),\n",
              " (2.0, Data(x=[200, 3], edge_index=[2, 21], edge_attr=[21, 1])),\n",
              " (3.0, Data(x=[200, 3], edge_index=[2, 29], edge_attr=[29, 1])),\n",
              " (4.0, Data(x=[200, 3], edge_index=[2, 23], edge_attr=[23, 1])),\n",
              " (5.0, Data(x=[200, 3], edge_index=[2, 26], edge_attr=[26, 1])),\n",
              " (6.0, Data(x=[200, 3], edge_index=[2, 35], edge_attr=[35, 1])),\n",
              " (7.0, Data(x=[200, 3], edge_index=[2, 25], edge_attr=[25, 1])),\n",
              " (8.0, Data(x=[157, 3], edge_index=[2, 26], edge_attr=[26, 1])),\n",
              " (9.0, Data(x=[200, 3], edge_index=[2, 31], edge_attr=[31, 1])),\n",
              " (10.0, Data(x=[74, 3], edge_index=[2, 12], edge_attr=[12, 1])),\n",
              " (11.0, Data(x=[200, 3], edge_index=[2, 29], edge_attr=[29, 1])),\n",
              " (12.0, Data(x=[200, 3], edge_index=[2, 12], edge_attr=[12, 1])),\n",
              " (13.0, Data(x=[24, 3], edge_index=[2, 1], edge_attr=[1, 1])),\n",
              " (14.0, Data(x=[45, 3], edge_index=[2, 8], edge_attr=[8, 1])),\n",
              " (15.0, Data(x=[44, 3], edge_index=[2, 8], edge_attr=[8, 1])),\n",
              " (16.0, Data(x=[137, 3], edge_index=[2, 22], edge_attr=[22, 1])),\n",
              " (17.0, Data(x=[200, 3], edge_index=[2, 23], edge_attr=[23, 1])),\n",
              " (18.0, Data(x=[70, 3], edge_index=[2, 8], edge_attr=[8, 1])),\n",
              " (19.0, Data(x=[112, 3], edge_index=[2, 19], edge_attr=[19, 1])),\n",
              " (20.0, Data(x=[200, 3], edge_index=[2, 33], edge_attr=[33, 1])),\n",
              " (21.0, Data(x=[200, 3], edge_index=[2, 32], edge_attr=[32, 1])),\n",
              " (22.0, Data(x=[200, 3], edge_index=[2, 21], edge_attr=[21, 1])),\n",
              " (23.0, Data(x=[200, 3], edge_index=[2, 29], edge_attr=[29, 1])),\n",
              " (24.0, Data(x=[200, 3], edge_index=[2, 24], edge_attr=[24, 1])),\n",
              " (25.0, Data(x=[33, 3], edge_index=[2, 2], edge_attr=[2, 1])),\n",
              " (26.0, Data(x=[200, 3], edge_index=[2, 28], edge_attr=[28, 1])),\n",
              " (27.0, Data(x=[23, 3], edge_index=[2, 4], edge_attr=[4, 1])),\n",
              " (28.0, Data(x=[200, 3], edge_index=[2, 26], edge_attr=[26, 1])),\n",
              " (29.0, Data(x=[200, 3], edge_index=[2, 29], edge_attr=[29, 1])),\n",
              " (30.0, Data(x=[200, 3], edge_index=[2, 25], edge_attr=[25, 1])),\n",
              " (0.0, Data(x=[55, 3], edge_index=[2, 7], edge_attr=[7, 1])),\n",
              " (1.0, Data(x=[200, 3], edge_index=[2, 29], edge_attr=[29, 1])),\n",
              " (2.0, Data(x=[155, 3], edge_index=[2, 26], edge_attr=[26, 1])),\n",
              " (3.0, Data(x=[48, 3], edge_index=[2, 4], edge_attr=[4, 1])),\n",
              " (4.0, Data(x=[76, 3], edge_index=[2, 9], edge_attr=[9, 1])),\n",
              " (5.0, Data(x=[25, 3], edge_index=[2, 2], edge_attr=[2, 1])),\n",
              " (6.0, Data(x=[200, 3], edge_index=[2, 29], edge_attr=[29, 1])),\n",
              " (7.0, Data(x=[23, 3], edge_index=[2, 2], edge_attr=[2, 1])),\n",
              " (8.0, Data(x=[41, 3], edge_index=[2, 8], edge_attr=[8, 1])),\n",
              " (9.0, Data(x=[26, 3], edge_index=[2, 5], edge_attr=[5, 1])),\n",
              " (10.0, Data(x=[200, 3], edge_index=[2, 30], edge_attr=[30, 1])),\n",
              " (11.0, Data(x=[200, 3], edge_index=[2, 28], edge_attr=[28, 1])),\n",
              " (12.0, Data(x=[200, 3], edge_index=[2, 36], edge_attr=[36, 1])),\n",
              " (13.0, Data(x=[200, 3], edge_index=[2, 26], edge_attr=[26, 1])),\n",
              " (14.0, Data(x=[200, 3], edge_index=[2, 23], edge_attr=[23, 1])),\n",
              " (15.0, Data(x=[200, 3], edge_index=[2, 22], edge_attr=[22, 1])),\n",
              " (16.0, Data(x=[200, 3], edge_index=[2, 18], edge_attr=[18, 1])),\n",
              " (17.0, Data(x=[200, 3], edge_index=[2, 21], edge_attr=[21, 1])),\n",
              " (18.0, Data(x=[200, 3], edge_index=[2, 26], edge_attr=[26, 1])),\n",
              " (19.0, Data(x=[200, 3], edge_index=[2, 30], edge_attr=[30, 1])),\n",
              " (20.0, Data(x=[200, 3], edge_index=[2, 30], edge_attr=[30, 1])),\n",
              " (21.0, Data(x=[200, 3], edge_index=[2, 31], edge_attr=[31, 1])),\n",
              " (22.0, Data(x=[200, 3], edge_index=[2, 26], edge_attr=[26, 1])),\n",
              " (23.0, Data(x=[200, 3], edge_index=[2, 25], edge_attr=[25, 1])),\n",
              " (24.0, Data(x=[200, 3], edge_index=[2, 31], edge_attr=[31, 1])),\n",
              " (25.0, Data(x=[200, 3], edge_index=[2, 24], edge_attr=[24, 1])),\n",
              " (26.0, Data(x=[22, 3], edge_index=[2, 5], edge_attr=[5, 1])),\n",
              " (27.0, Data(x=[200, 3], edge_index=[2, 28], edge_attr=[28, 1])),\n",
              " (28.0, Data(x=[200, 3], edge_index=[2, 30], edge_attr=[30, 1])),\n",
              " (29.0, Data(x=[105, 3], edge_index=[2, 13], edge_attr=[13, 1])),\n",
              " (30.0, Data(x=[200, 3], edge_index=[2, 23], edge_attr=[23, 1])),\n",
              " (31.0, Data(x=[200, 3], edge_index=[2, 28], edge_attr=[28, 1])),\n",
              " (32.0, Data(x=[200, 3], edge_index=[2, 35], edge_attr=[35, 1])),\n",
              " (33.0, Data(x=[200, 3], edge_index=[2, 27], edge_attr=[27, 1])),\n",
              " (34.0, Data(x=[27, 3], edge_index=[2, 3], edge_attr=[3, 1])),\n",
              " (35.0, Data(x=[152, 3], edge_index=[2, 20], edge_attr=[20, 1])),\n",
              " (36.0, Data(x=[184, 3], edge_index=[2, 28], edge_attr=[28, 1]))]"
            ]
          },
          "metadata": {},
          "execution_count": 55
        }
      ]
    },
    {
      "cell_type": "code",
      "source": [
        "trajectory_graphs = []\n",
        "\n",
        "# Iterar sobre cada DataFrame en la lista de datos de trayectorias\n",
        "for trajectory_data in trajectory_data_list:\n",
        "    # Construir el grafo a partir de los datos de trayectoria\n",
        "    graph = GraphFromTrajectoryData(connectivity_radius=0.6, max_frame_distance=2)(trajectory_data)\n",
        "    trajectory_graphs.append(graph)"
      ],
      "metadata": {
        "colab": {
          "base_uri": "https://localhost:8080/",
          "height": 351
        },
        "collapsed": true,
        "id": "KnjD9OVNj4-i",
        "outputId": "68e334f2-93d6-4bf0-9950-b4f3b878e912"
      },
      "execution_count": 11,
      "outputs": [
        {
          "output_type": "error",
          "ename": "KeyboardInterrupt",
          "evalue": "",
          "traceback": [
            "\u001b[0;31m---------------------------------------------------------------------------\u001b[0m",
            "\u001b[0;31mKeyboardInterrupt\u001b[0m                         Traceback (most recent call last)",
            "\u001b[0;32m<ipython-input-11-584a7d90f0df>\u001b[0m in \u001b[0;36m<cell line: 4>\u001b[0;34m()\u001b[0m\n\u001b[1;32m      4\u001b[0m \u001b[0;32mfor\u001b[0m \u001b[0mtrajectory_data\u001b[0m \u001b[0;32min\u001b[0m \u001b[0mtrajectory_data_list\u001b[0m\u001b[0;34m:\u001b[0m\u001b[0;34m\u001b[0m\u001b[0;34m\u001b[0m\u001b[0m\n\u001b[1;32m      5\u001b[0m     \u001b[0;31m# Construir el grafo a partir de los datos de trayectoria\u001b[0m\u001b[0;34m\u001b[0m\u001b[0;34m\u001b[0m\u001b[0m\n\u001b[0;32m----> 6\u001b[0;31m     \u001b[0mgraph\u001b[0m \u001b[0;34m=\u001b[0m \u001b[0mGraphFromTrajectoryData\u001b[0m\u001b[0;34m(\u001b[0m\u001b[0mconnectivity_radius\u001b[0m\u001b[0;34m=\u001b[0m\u001b[0;36m0.6\u001b[0m\u001b[0;34m,\u001b[0m \u001b[0mmax_frame_distance\u001b[0m\u001b[0;34m=\u001b[0m\u001b[0;36m2\u001b[0m\u001b[0;34m)\u001b[0m\u001b[0;34m(\u001b[0m\u001b[0mtrajectory_data\u001b[0m\u001b[0;34m)\u001b[0m\u001b[0;34m\u001b[0m\u001b[0;34m\u001b[0m\u001b[0m\n\u001b[0m\u001b[1;32m      7\u001b[0m     \u001b[0mtrajectory_graphs\u001b[0m\u001b[0;34m.\u001b[0m\u001b[0mappend\u001b[0m\u001b[0;34m(\u001b[0m\u001b[0mgraph\u001b[0m\u001b[0;34m)\u001b[0m\u001b[0;34m\u001b[0m\u001b[0;34m\u001b[0m\u001b[0m\n",
            "\u001b[0;32m<ipython-input-6-46f68319c0c5>\u001b[0m in \u001b[0;36m__call__\u001b[0;34m(self, trajectory)\u001b[0m\n\u001b[1;32m     14\u001b[0m     \u001b[0;32mdef\u001b[0m \u001b[0m__call__\u001b[0m\u001b[0;34m(\u001b[0m\u001b[0mself\u001b[0m\u001b[0;34m,\u001b[0m \u001b[0mtrajectory\u001b[0m\u001b[0;34m)\u001b[0m\u001b[0;34m:\u001b[0m\u001b[0;34m\u001b[0m\u001b[0;34m\u001b[0m\u001b[0m\n\u001b[1;32m     15\u001b[0m         \u001b[0;34m\"\"\"Construct graph from a single trajectory.\"\"\"\u001b[0m\u001b[0;34m\u001b[0m\u001b[0;34m\u001b[0m\u001b[0m\n\u001b[0;32m---> 16\u001b[0;31m         \u001b[0mgraph\u001b[0m \u001b[0;34m=\u001b[0m \u001b[0mself\u001b[0m\u001b[0;34m.\u001b[0m\u001b[0mconstruct_graph\u001b[0m\u001b[0;34m(\u001b[0m\u001b[0mtrajectory\u001b[0m\u001b[0;34m)\u001b[0m\u001b[0;34m\u001b[0m\u001b[0;34m\u001b[0m\u001b[0m\n\u001b[0m\u001b[1;32m     17\u001b[0m         \u001b[0;32mreturn\u001b[0m \u001b[0mgraph\u001b[0m\u001b[0;34m\u001b[0m\u001b[0;34m\u001b[0m\u001b[0m\n\u001b[1;32m     18\u001b[0m \u001b[0;34m\u001b[0m\u001b[0m\n",
            "\u001b[0;32m<ipython-input-6-46f68319c0c5>\u001b[0m in \u001b[0;36mconstruct_graph\u001b[0;34m(self, trajectory)\u001b[0m\n\u001b[1;32m     27\u001b[0m \u001b[0;34m\u001b[0m\u001b[0m\n\u001b[1;32m     28\u001b[0m         \u001b[0;31m# Compute connectivity\u001b[0m\u001b[0;34m\u001b[0m\u001b[0;34m\u001b[0m\u001b[0m\n\u001b[0;32m---> 29\u001b[0;31m         \u001b[0medge_index\u001b[0m\u001b[0;34m,\u001b[0m \u001b[0medge_attr\u001b[0m \u001b[0;34m=\u001b[0m \u001b[0mself\u001b[0m\u001b[0;34m.\u001b[0m\u001b[0mcompute_connectivity\u001b[0m\u001b[0;34m(\u001b[0m\u001b[0mfeatures\u001b[0m\u001b[0;34m,\u001b[0m \u001b[0mnode_indices\u001b[0m\u001b[0;34m)\u001b[0m\u001b[0;34m\u001b[0m\u001b[0;34m\u001b[0m\u001b[0m\n\u001b[0m\u001b[1;32m     30\u001b[0m \u001b[0;34m\u001b[0m\u001b[0m\n\u001b[1;32m     31\u001b[0m         \u001b[0mx\u001b[0m \u001b[0;34m=\u001b[0m \u001b[0mtorch\u001b[0m\u001b[0;34m.\u001b[0m\u001b[0mtensor\u001b[0m\u001b[0;34m(\u001b[0m\u001b[0mnp\u001b[0m\u001b[0;34m.\u001b[0m\u001b[0marray\u001b[0m\u001b[0;34m(\u001b[0m\u001b[0mx\u001b[0m\u001b[0;34m)\u001b[0m\u001b[0;34m,\u001b[0m \u001b[0mdtype\u001b[0m\u001b[0;34m=\u001b[0m\u001b[0mtorch\u001b[0m\u001b[0;34m.\u001b[0m\u001b[0mfloat\u001b[0m\u001b[0;34m)\u001b[0m\u001b[0;34m\u001b[0m\u001b[0;34m\u001b[0m\u001b[0m\n",
            "\u001b[0;32m<ipython-input-6-46f68319c0c5>\u001b[0m in \u001b[0;36mcompute_connectivity\u001b[0;34m(self, features, node_indices)\u001b[0m\n\u001b[1;32m     56\u001b[0m             \u001b[0;32mfor\u001b[0m \u001b[0mj\u001b[0m \u001b[0;32min\u001b[0m \u001b[0mrange\u001b[0m\u001b[0;34m(\u001b[0m\u001b[0mi\u001b[0m \u001b[0;34m+\u001b[0m \u001b[0;36m1\u001b[0m\u001b[0;34m,\u001b[0m \u001b[0mnum_nodes\u001b[0m\u001b[0;34m)\u001b[0m\u001b[0;34m:\u001b[0m\u001b[0;34m\u001b[0m\u001b[0;34m\u001b[0m\u001b[0m\n\u001b[1;32m     57\u001b[0m                 \u001b[0mdistance\u001b[0m \u001b[0;34m=\u001b[0m \u001b[0mnp\u001b[0m\u001b[0;34m.\u001b[0m\u001b[0mlinalg\u001b[0m\u001b[0;34m.\u001b[0m\u001b[0mnorm\u001b[0m\u001b[0;34m(\u001b[0m\u001b[0mfeatures\u001b[0m\u001b[0;34m[\u001b[0m\u001b[0mi\u001b[0m\u001b[0;34m]\u001b[0m\u001b[0;34m[\u001b[0m\u001b[0;34m:\u001b[0m\u001b[0;36m2\u001b[0m\u001b[0;34m]\u001b[0m \u001b[0;34m-\u001b[0m \u001b[0mfeatures\u001b[0m\u001b[0;34m[\u001b[0m\u001b[0mj\u001b[0m\u001b[0;34m]\u001b[0m\u001b[0;34m[\u001b[0m\u001b[0;34m:\u001b[0m\u001b[0;36m2\u001b[0m\u001b[0;34m]\u001b[0m\u001b[0;34m)\u001b[0m\u001b[0;34m\u001b[0m\u001b[0;34m\u001b[0m\u001b[0m\n\u001b[0;32m---> 58\u001b[0;31m                 \u001b[0mframe_distance\u001b[0m \u001b[0;34m=\u001b[0m \u001b[0mabs\u001b[0m\u001b[0;34m(\u001b[0m\u001b[0mfeatures\u001b[0m\u001b[0;34m[\u001b[0m\u001b[0mi\u001b[0m\u001b[0;34m]\u001b[0m\u001b[0;34m[\u001b[0m\u001b[0;36m2\u001b[0m\u001b[0;34m]\u001b[0m \u001b[0;34m-\u001b[0m \u001b[0mfeatures\u001b[0m\u001b[0;34m[\u001b[0m\u001b[0mj\u001b[0m\u001b[0;34m]\u001b[0m\u001b[0;34m[\u001b[0m\u001b[0;36m2\u001b[0m\u001b[0;34m]\u001b[0m\u001b[0;34m)\u001b[0m  \u001b[0;31m# Diferencia entre fotogramas\u001b[0m\u001b[0;34m\u001b[0m\u001b[0;34m\u001b[0m\u001b[0m\n\u001b[0m\u001b[1;32m     59\u001b[0m                 \u001b[0;32mif\u001b[0m \u001b[0mdistance\u001b[0m \u001b[0;34m<\u001b[0m \u001b[0mself\u001b[0m\u001b[0;34m.\u001b[0m\u001b[0mconnectivity_radius\u001b[0m \u001b[0;32mand\u001b[0m \u001b[0mframe_distance\u001b[0m \u001b[0;34m<=\u001b[0m \u001b[0mself\u001b[0m\u001b[0;34m.\u001b[0m\u001b[0mmax_frame_distance\u001b[0m\u001b[0;34m:\u001b[0m\u001b[0;34m\u001b[0m\u001b[0;34m\u001b[0m\u001b[0m\n\u001b[1;32m     60\u001b[0m                     \u001b[0medge_index\u001b[0m\u001b[0;34m.\u001b[0m\u001b[0mappend\u001b[0m\u001b[0;34m(\u001b[0m\u001b[0;34m[\u001b[0m\u001b[0mnode_indices\u001b[0m\u001b[0;34m[\u001b[0m\u001b[0mi\u001b[0m\u001b[0;34m]\u001b[0m\u001b[0;34m,\u001b[0m \u001b[0mnode_indices\u001b[0m\u001b[0;34m[\u001b[0m\u001b[0mj\u001b[0m\u001b[0;34m]\u001b[0m\u001b[0;34m]\u001b[0m\u001b[0;34m)\u001b[0m\u001b[0;34m\u001b[0m\u001b[0;34m\u001b[0m\u001b[0m\n",
            "\u001b[0;31mKeyboardInterrupt\u001b[0m: "
          ]
        }
      ]
    },
    {
      "cell_type": "code",
      "source": [
        "len(trajectory_graphs)"
      ],
      "metadata": {
        "colab": {
          "base_uri": "https://localhost:8080/"
        },
        "id": "adTBN8Cifz9f",
        "outputId": "9b8ea14c-df0a-408f-8c56-5f6415757cd7"
      },
      "execution_count": 44,
      "outputs": [
        {
          "output_type": "execute_result",
          "data": {
            "text/plain": [
              "3"
            ]
          },
          "metadata": {},
          "execution_count": 44
        }
      ]
    },
    {
      "cell_type": "code",
      "source": [
        "trajectory_graphs"
      ],
      "metadata": {
        "colab": {
          "base_uri": "https://localhost:8080/"
        },
        "id": "eErJYd1Xf0Ev",
        "outputId": "3423077d-ffeb-445a-dd1d-1e3f645120f1"
      },
      "execution_count": 45,
      "outputs": [
        {
          "output_type": "execute_result",
          "data": {
            "text/plain": [
              "[Data(x=[5519, 3], edge_index=[2, 791], edge_attr=[791, 1]),\n",
              " Data(x=[4919, 3], edge_index=[2, 712], edge_attr=[712, 1]),\n",
              " Data(x=[5739, 3], edge_index=[2, 804], edge_attr=[804, 1])]"
            ]
          },
          "metadata": {},
          "execution_count": 45
        }
      ]
    }
  ]
}