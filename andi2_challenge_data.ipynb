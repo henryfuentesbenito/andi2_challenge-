{
  "nbformat": 4,
  "nbformat_minor": 0,
  "metadata": {
    "colab": {
      "provenance": [],
      "authorship_tag": "ABX9TyPN4hdv4hMKmWbuYJo1gf0X",
      "include_colab_link": true
    },
    "kernelspec": {
      "name": "python3",
      "display_name": "Python 3"
    },
    "language_info": {
      "name": "python"
    },
    "widgets": {
      "application/vnd.jupyter.widget-state+json": {
        "dc9113a53d9048b2913262b08d334e76": {
          "model_module": "@jupyter-widgets/controls",
          "model_name": "HBoxModel",
          "model_module_version": "1.5.0",
          "state": {
            "_dom_classes": [],
            "_model_module": "@jupyter-widgets/controls",
            "_model_module_version": "1.5.0",
            "_model_name": "HBoxModel",
            "_view_count": null,
            "_view_module": "@jupyter-widgets/controls",
            "_view_module_version": "1.5.0",
            "_view_name": "HBoxView",
            "box_style": "",
            "children": [
              "IPY_MODEL_024bf2bbbb764586b0b8e4da771ac62b",
              "IPY_MODEL_39843a066ecf46948a8b08a7dd6efc71",
              "IPY_MODEL_27b284bc39c6492b8ef5e7b9c8842fc4"
            ],
            "layout": "IPY_MODEL_9043b46c41324fed91e387dad9782d16"
          }
        },
        "024bf2bbbb764586b0b8e4da771ac62b": {
          "model_module": "@jupyter-widgets/controls",
          "model_name": "HTMLModel",
          "model_module_version": "1.5.0",
          "state": {
            "_dom_classes": [],
            "_model_module": "@jupyter-widgets/controls",
            "_model_module_version": "1.5.0",
            "_model_name": "HTMLModel",
            "_view_count": null,
            "_view_module": "@jupyter-widgets/controls",
            "_view_module_version": "1.5.0",
            "_view_name": "HTMLView",
            "description": "",
            "description_tooltip": null,
            "layout": "IPY_MODEL_16925aec9ba548a7a42ca7246dbbaf78",
            "placeholder": "​",
            "style": "IPY_MODEL_e3eec8235b3942778307df690fb9204c",
            "value": "100%"
          }
        },
        "39843a066ecf46948a8b08a7dd6efc71": {
          "model_module": "@jupyter-widgets/controls",
          "model_name": "FloatProgressModel",
          "model_module_version": "1.5.0",
          "state": {
            "_dom_classes": [],
            "_model_module": "@jupyter-widgets/controls",
            "_model_module_version": "1.5.0",
            "_model_name": "FloatProgressModel",
            "_view_count": null,
            "_view_module": "@jupyter-widgets/controls",
            "_view_module_version": "1.5.0",
            "_view_name": "ProgressView",
            "bar_style": "success",
            "description": "",
            "description_tooltip": null,
            "layout": "IPY_MODEL_5c719951d43d494cbf5022f9669d8e87",
            "max": 60,
            "min": 0,
            "orientation": "horizontal",
            "style": "IPY_MODEL_2107f932fc2e4560b5aa72326fbb726c",
            "value": 60
          }
        },
        "27b284bc39c6492b8ef5e7b9c8842fc4": {
          "model_module": "@jupyter-widgets/controls",
          "model_name": "HTMLModel",
          "model_module_version": "1.5.0",
          "state": {
            "_dom_classes": [],
            "_model_module": "@jupyter-widgets/controls",
            "_model_module_version": "1.5.0",
            "_model_name": "HTMLModel",
            "_view_count": null,
            "_view_module": "@jupyter-widgets/controls",
            "_view_module_version": "1.5.0",
            "_view_name": "HTMLView",
            "description": "",
            "description_tooltip": null,
            "layout": "IPY_MODEL_fbede57ce37d47a092ed225f0b6f355e",
            "placeholder": "​",
            "style": "IPY_MODEL_88973d95bc5146cdabf7a7a34b69d428",
            "value": " 60/60 [00:40&lt;00:00,  1.61it/s]"
          }
        },
        "9043b46c41324fed91e387dad9782d16": {
          "model_module": "@jupyter-widgets/base",
          "model_name": "LayoutModel",
          "model_module_version": "1.2.0",
          "state": {
            "_model_module": "@jupyter-widgets/base",
            "_model_module_version": "1.2.0",
            "_model_name": "LayoutModel",
            "_view_count": null,
            "_view_module": "@jupyter-widgets/base",
            "_view_module_version": "1.2.0",
            "_view_name": "LayoutView",
            "align_content": null,
            "align_items": null,
            "align_self": null,
            "border": null,
            "bottom": null,
            "display": null,
            "flex": null,
            "flex_flow": null,
            "grid_area": null,
            "grid_auto_columns": null,
            "grid_auto_flow": null,
            "grid_auto_rows": null,
            "grid_column": null,
            "grid_gap": null,
            "grid_row": null,
            "grid_template_areas": null,
            "grid_template_columns": null,
            "grid_template_rows": null,
            "height": null,
            "justify_content": null,
            "justify_items": null,
            "left": null,
            "margin": null,
            "max_height": null,
            "max_width": null,
            "min_height": null,
            "min_width": null,
            "object_fit": null,
            "object_position": null,
            "order": null,
            "overflow": null,
            "overflow_x": null,
            "overflow_y": null,
            "padding": null,
            "right": null,
            "top": null,
            "visibility": null,
            "width": null
          }
        },
        "16925aec9ba548a7a42ca7246dbbaf78": {
          "model_module": "@jupyter-widgets/base",
          "model_name": "LayoutModel",
          "model_module_version": "1.2.0",
          "state": {
            "_model_module": "@jupyter-widgets/base",
            "_model_module_version": "1.2.0",
            "_model_name": "LayoutModel",
            "_view_count": null,
            "_view_module": "@jupyter-widgets/base",
            "_view_module_version": "1.2.0",
            "_view_name": "LayoutView",
            "align_content": null,
            "align_items": null,
            "align_self": null,
            "border": null,
            "bottom": null,
            "display": null,
            "flex": null,
            "flex_flow": null,
            "grid_area": null,
            "grid_auto_columns": null,
            "grid_auto_flow": null,
            "grid_auto_rows": null,
            "grid_column": null,
            "grid_gap": null,
            "grid_row": null,
            "grid_template_areas": null,
            "grid_template_columns": null,
            "grid_template_rows": null,
            "height": null,
            "justify_content": null,
            "justify_items": null,
            "left": null,
            "margin": null,
            "max_height": null,
            "max_width": null,
            "min_height": null,
            "min_width": null,
            "object_fit": null,
            "object_position": null,
            "order": null,
            "overflow": null,
            "overflow_x": null,
            "overflow_y": null,
            "padding": null,
            "right": null,
            "top": null,
            "visibility": null,
            "width": null
          }
        },
        "e3eec8235b3942778307df690fb9204c": {
          "model_module": "@jupyter-widgets/controls",
          "model_name": "DescriptionStyleModel",
          "model_module_version": "1.5.0",
          "state": {
            "_model_module": "@jupyter-widgets/controls",
            "_model_module_version": "1.5.0",
            "_model_name": "DescriptionStyleModel",
            "_view_count": null,
            "_view_module": "@jupyter-widgets/base",
            "_view_module_version": "1.2.0",
            "_view_name": "StyleView",
            "description_width": ""
          }
        },
        "5c719951d43d494cbf5022f9669d8e87": {
          "model_module": "@jupyter-widgets/base",
          "model_name": "LayoutModel",
          "model_module_version": "1.2.0",
          "state": {
            "_model_module": "@jupyter-widgets/base",
            "_model_module_version": "1.2.0",
            "_model_name": "LayoutModel",
            "_view_count": null,
            "_view_module": "@jupyter-widgets/base",
            "_view_module_version": "1.2.0",
            "_view_name": "LayoutView",
            "align_content": null,
            "align_items": null,
            "align_self": null,
            "border": null,
            "bottom": null,
            "display": null,
            "flex": null,
            "flex_flow": null,
            "grid_area": null,
            "grid_auto_columns": null,
            "grid_auto_flow": null,
            "grid_auto_rows": null,
            "grid_column": null,
            "grid_gap": null,
            "grid_row": null,
            "grid_template_areas": null,
            "grid_template_columns": null,
            "grid_template_rows": null,
            "height": null,
            "justify_content": null,
            "justify_items": null,
            "left": null,
            "margin": null,
            "max_height": null,
            "max_width": null,
            "min_height": null,
            "min_width": null,
            "object_fit": null,
            "object_position": null,
            "order": null,
            "overflow": null,
            "overflow_x": null,
            "overflow_y": null,
            "padding": null,
            "right": null,
            "top": null,
            "visibility": null,
            "width": null
          }
        },
        "2107f932fc2e4560b5aa72326fbb726c": {
          "model_module": "@jupyter-widgets/controls",
          "model_name": "ProgressStyleModel",
          "model_module_version": "1.5.0",
          "state": {
            "_model_module": "@jupyter-widgets/controls",
            "_model_module_version": "1.5.0",
            "_model_name": "ProgressStyleModel",
            "_view_count": null,
            "_view_module": "@jupyter-widgets/base",
            "_view_module_version": "1.2.0",
            "_view_name": "StyleView",
            "bar_color": null,
            "description_width": ""
          }
        },
        "fbede57ce37d47a092ed225f0b6f355e": {
          "model_module": "@jupyter-widgets/base",
          "model_name": "LayoutModel",
          "model_module_version": "1.2.0",
          "state": {
            "_model_module": "@jupyter-widgets/base",
            "_model_module_version": "1.2.0",
            "_model_name": "LayoutModel",
            "_view_count": null,
            "_view_module": "@jupyter-widgets/base",
            "_view_module_version": "1.2.0",
            "_view_name": "LayoutView",
            "align_content": null,
            "align_items": null,
            "align_self": null,
            "border": null,
            "bottom": null,
            "display": null,
            "flex": null,
            "flex_flow": null,
            "grid_area": null,
            "grid_auto_columns": null,
            "grid_auto_flow": null,
            "grid_auto_rows": null,
            "grid_column": null,
            "grid_gap": null,
            "grid_row": null,
            "grid_template_areas": null,
            "grid_template_columns": null,
            "grid_template_rows": null,
            "height": null,
            "justify_content": null,
            "justify_items": null,
            "left": null,
            "margin": null,
            "max_height": null,
            "max_width": null,
            "min_height": null,
            "min_width": null,
            "object_fit": null,
            "object_position": null,
            "order": null,
            "overflow": null,
            "overflow_x": null,
            "overflow_y": null,
            "padding": null,
            "right": null,
            "top": null,
            "visibility": null,
            "width": null
          }
        },
        "88973d95bc5146cdabf7a7a34b69d428": {
          "model_module": "@jupyter-widgets/controls",
          "model_name": "DescriptionStyleModel",
          "model_module_version": "1.5.0",
          "state": {
            "_model_module": "@jupyter-widgets/controls",
            "_model_module_version": "1.5.0",
            "_model_name": "DescriptionStyleModel",
            "_view_count": null,
            "_view_module": "@jupyter-widgets/base",
            "_view_module_version": "1.2.0",
            "_view_name": "StyleView",
            "description_width": ""
          }
        }
      }
    }
  },
  "cells": [
    {
      "cell_type": "markdown",
      "metadata": {
        "id": "view-in-github",
        "colab_type": "text"
      },
      "source": [
        "<a href=\"https://colab.research.google.com/github/henryfuentesbenito/andi2_challenge-/blob/main/andi2_challenge_data.ipynb\" target=\"_parent\"><img src=\"https://colab.research.google.com/assets/colab-badge.svg\" alt=\"Open In Colab\"/></a>"
      ]
    },
    {
      "cell_type": "code",
      "execution_count": 2,
      "metadata": {
        "colab": {
          "base_uri": "https://localhost:8080/"
        },
        "id": "wcIH84sakY4A",
        "outputId": "bfb0d1a2-7756-41c6-e2c1-167b60205e2f"
      },
      "outputs": [
        {
          "output_type": "stream",
          "name": "stdout",
          "text": [
            "Mounted at /content/drive\n"
          ]
        }
      ],
      "source": [
        "from google.colab import drive\n",
        "drive.mount('/content/drive')"
      ]
    },
    {
      "cell_type": "code",
      "source": [
        "pip install andi_datasets"
      ],
      "metadata": {
        "colab": {
          "base_uri": "https://localhost:8080/"
        },
        "id": "UnY99STo4vqS",
        "outputId": "2cb30b31-ed21-4a1b-8b21-a65f7e631469"
      },
      "execution_count": 3,
      "outputs": [
        {
          "output_type": "stream",
          "name": "stdout",
          "text": [
            "Collecting andi_datasets\n",
            "  Downloading andi_datasets-2.1.2-py3-none-any.whl (70 kB)\n",
            "\u001b[2K     \u001b[90m━━━━━━━━━━━━━━━━━━━━━━━━━━━━━━━━━━━━━━━━\u001b[0m \u001b[32m71.0/71.0 kB\u001b[0m \u001b[31m1.1 MB/s\u001b[0m eta \u001b[36m0:00:00\u001b[0m\n",
            "\u001b[?25hRequirement already satisfied: numpy in /usr/local/lib/python3.10/dist-packages (from andi_datasets) (1.25.2)\n",
            "Collecting stochastic (from andi_datasets)\n",
            "  Downloading stochastic-0.7.0-py3-none-any.whl (48 kB)\n",
            "\u001b[2K     \u001b[90m━━━━━━━━━━━━━━━━━━━━━━━━━━━━━━━━━━━━━━━━\u001b[0m \u001b[32m48.1/48.1 kB\u001b[0m \u001b[31m3.1 MB/s\u001b[0m eta \u001b[36m0:00:00\u001b[0m\n",
            "\u001b[?25hRequirement already satisfied: tqdm in /usr/local/lib/python3.10/dist-packages (from andi_datasets) (4.66.4)\n",
            "Requirement already satisfied: scipy in /usr/local/lib/python3.10/dist-packages (from andi_datasets) (1.11.4)\n",
            "Requirement already satisfied: h5py in /usr/local/lib/python3.10/dist-packages (from andi_datasets) (3.9.0)\n",
            "Requirement already satisfied: pandas in /usr/local/lib/python3.10/dist-packages (from andi_datasets) (2.0.3)\n",
            "Requirement already satisfied: matplotlib in /usr/local/lib/python3.10/dist-packages (from andi_datasets) (3.7.1)\n",
            "Requirement already satisfied: scikit-learn in /usr/local/lib/python3.10/dist-packages (from andi_datasets) (1.2.2)\n",
            "Requirement already satisfied: imageio in /usr/local/lib/python3.10/dist-packages (from andi_datasets) (2.31.6)\n",
            "Requirement already satisfied: pillow<10.1.0,>=8.3.2 in /usr/local/lib/python3.10/dist-packages (from imageio->andi_datasets) (9.4.0)\n",
            "Requirement already satisfied: contourpy>=1.0.1 in /usr/local/lib/python3.10/dist-packages (from matplotlib->andi_datasets) (1.2.1)\n",
            "Requirement already satisfied: cycler>=0.10 in /usr/local/lib/python3.10/dist-packages (from matplotlib->andi_datasets) (0.12.1)\n",
            "Requirement already satisfied: fonttools>=4.22.0 in /usr/local/lib/python3.10/dist-packages (from matplotlib->andi_datasets) (4.51.0)\n",
            "Requirement already satisfied: kiwisolver>=1.0.1 in /usr/local/lib/python3.10/dist-packages (from matplotlib->andi_datasets) (1.4.5)\n",
            "Requirement already satisfied: packaging>=20.0 in /usr/local/lib/python3.10/dist-packages (from matplotlib->andi_datasets) (24.0)\n",
            "Requirement already satisfied: pyparsing>=2.3.1 in /usr/local/lib/python3.10/dist-packages (from matplotlib->andi_datasets) (3.1.2)\n",
            "Requirement already satisfied: python-dateutil>=2.7 in /usr/local/lib/python3.10/dist-packages (from matplotlib->andi_datasets) (2.8.2)\n",
            "Requirement already satisfied: pytz>=2020.1 in /usr/local/lib/python3.10/dist-packages (from pandas->andi_datasets) (2023.4)\n",
            "Requirement already satisfied: tzdata>=2022.1 in /usr/local/lib/python3.10/dist-packages (from pandas->andi_datasets) (2024.1)\n",
            "Requirement already satisfied: joblib>=1.1.1 in /usr/local/lib/python3.10/dist-packages (from scikit-learn->andi_datasets) (1.4.2)\n",
            "Requirement already satisfied: threadpoolctl>=2.0.0 in /usr/local/lib/python3.10/dist-packages (from scikit-learn->andi_datasets) (3.5.0)\n",
            "Requirement already satisfied: six>=1.5 in /usr/local/lib/python3.10/dist-packages (from python-dateutil>=2.7->matplotlib->andi_datasets) (1.16.0)\n",
            "Installing collected packages: stochastic, andi_datasets\n",
            "Successfully installed andi_datasets-2.1.2 stochastic-0.7.0\n"
          ]
        }
      ]
    },
    {
      "cell_type": "code",
      "source": [
        "pip install torch_geometric"
      ],
      "metadata": {
        "colab": {
          "base_uri": "https://localhost:8080/"
        },
        "id": "lHPoE3xalWaW",
        "outputId": "0a44d000-f5ec-4369-f6c1-b3198bfbda3a"
      },
      "execution_count": 4,
      "outputs": [
        {
          "output_type": "stream",
          "name": "stdout",
          "text": [
            "Collecting torch_geometric\n",
            "  Downloading torch_geometric-2.5.3-py3-none-any.whl (1.1 MB)\n",
            "\u001b[2K     \u001b[90m━━━━━━━━━━━━━━━━━━━━━━━━━━━━━━━━━━━━━━━━\u001b[0m \u001b[32m1.1/1.1 MB\u001b[0m \u001b[31m5.9 MB/s\u001b[0m eta \u001b[36m0:00:00\u001b[0m\n",
            "\u001b[?25hRequirement already satisfied: tqdm in /usr/local/lib/python3.10/dist-packages (from torch_geometric) (4.66.4)\n",
            "Requirement already satisfied: numpy in /usr/local/lib/python3.10/dist-packages (from torch_geometric) (1.25.2)\n",
            "Requirement already satisfied: scipy in /usr/local/lib/python3.10/dist-packages (from torch_geometric) (1.11.4)\n",
            "Requirement already satisfied: fsspec in /usr/local/lib/python3.10/dist-packages (from torch_geometric) (2023.6.0)\n",
            "Requirement already satisfied: jinja2 in /usr/local/lib/python3.10/dist-packages (from torch_geometric) (3.1.4)\n",
            "Requirement already satisfied: aiohttp in /usr/local/lib/python3.10/dist-packages (from torch_geometric) (3.9.5)\n",
            "Requirement already satisfied: requests in /usr/local/lib/python3.10/dist-packages (from torch_geometric) (2.31.0)\n",
            "Requirement already satisfied: pyparsing in /usr/local/lib/python3.10/dist-packages (from torch_geometric) (3.1.2)\n",
            "Requirement already satisfied: scikit-learn in /usr/local/lib/python3.10/dist-packages (from torch_geometric) (1.2.2)\n",
            "Requirement already satisfied: psutil>=5.8.0 in /usr/local/lib/python3.10/dist-packages (from torch_geometric) (5.9.5)\n",
            "Requirement already satisfied: aiosignal>=1.1.2 in /usr/local/lib/python3.10/dist-packages (from aiohttp->torch_geometric) (1.3.1)\n",
            "Requirement already satisfied: attrs>=17.3.0 in /usr/local/lib/python3.10/dist-packages (from aiohttp->torch_geometric) (23.2.0)\n",
            "Requirement already satisfied: frozenlist>=1.1.1 in /usr/local/lib/python3.10/dist-packages (from aiohttp->torch_geometric) (1.4.1)\n",
            "Requirement already satisfied: multidict<7.0,>=4.5 in /usr/local/lib/python3.10/dist-packages (from aiohttp->torch_geometric) (6.0.5)\n",
            "Requirement already satisfied: yarl<2.0,>=1.0 in /usr/local/lib/python3.10/dist-packages (from aiohttp->torch_geometric) (1.9.4)\n",
            "Requirement already satisfied: async-timeout<5.0,>=4.0 in /usr/local/lib/python3.10/dist-packages (from aiohttp->torch_geometric) (4.0.3)\n",
            "Requirement already satisfied: MarkupSafe>=2.0 in /usr/local/lib/python3.10/dist-packages (from jinja2->torch_geometric) (2.1.5)\n",
            "Requirement already satisfied: charset-normalizer<4,>=2 in /usr/local/lib/python3.10/dist-packages (from requests->torch_geometric) (3.3.2)\n",
            "Requirement already satisfied: idna<4,>=2.5 in /usr/local/lib/python3.10/dist-packages (from requests->torch_geometric) (3.7)\n",
            "Requirement already satisfied: urllib3<3,>=1.21.1 in /usr/local/lib/python3.10/dist-packages (from requests->torch_geometric) (2.0.7)\n",
            "Requirement already satisfied: certifi>=2017.4.17 in /usr/local/lib/python3.10/dist-packages (from requests->torch_geometric) (2024.2.2)\n",
            "Requirement already satisfied: joblib>=1.1.1 in /usr/local/lib/python3.10/dist-packages (from scikit-learn->torch_geometric) (1.4.2)\n",
            "Requirement already satisfied: threadpoolctl>=2.0.0 in /usr/local/lib/python3.10/dist-packages (from scikit-learn->torch_geometric) (3.5.0)\n",
            "Installing collected packages: torch_geometric\n",
            "Successfully installed torch_geometric-2.5.3\n"
          ]
        }
      ]
    },
    {
      "cell_type": "code",
      "source": [
        "from andi_datasets.datasets_challenge import challenge_phenom_dataset, _get_dic_andi2, _defaults_andi2\n",
        "import numpy as np\n",
        "\n",
        "MODELS = np.arange(1)\n",
        "NUM_FOVS = 30\n",
        "PATH = '/content/drive/MyDrive/andi2_dataset6/' # Chose your path!\n",
        "\n",
        "dics = []\n",
        "\n",
        "for m in MODELS:\n",
        "    dic = _get_dic_andi2(m+1)\n",
        "\n",
        "    # Fix length and number of trajectories\n",
        "    dic['T'] = 200\n",
        "    dic['N'] = 100\n",
        "\n",
        "    # Add repeated fovs for the experiment\n",
        "    for _ in range(NUM_FOVS):\n",
        "        dics.append(dic)"
      ],
      "metadata": {
        "id": "spCO_NqT3hDL",
        "colab": {
          "base_uri": "https://localhost:8080/"
        },
        "outputId": "934547cf-9c80-41c5-9646-6ac2153269df"
      },
      "execution_count": 5,
      "outputs": [
        {
          "output_type": "stream",
          "name": "stderr",
          "text": [
            "/usr/local/lib/python3.10/dist-packages/andi_datasets/utils_videos.py:22: UserWarning: From your imports it seems that you will need Deeptrack. Install if needed using pip install deeptrack.\n",
            "  warnings.warn('From your imports it seems that you will need Deeptrack. Install if needed using pip install deeptrack.')\n"
          ]
        }
      ]
    },
    {
      "cell_type": "code",
      "source": [
        "\n",
        "  for m in MODELS:\n",
        "    dic = _get_dic_andi2(m+1)\n",
        "\n",
        "    # Fix length and number of trajectories\n",
        "    dic['T'] = 200\n",
        "    dic['N'] = 100\n",
        "\n",
        "    #### SINGLE STATE ####\n",
        "    if m == 0:\n",
        "        dic['alphas'] = np.array([1, 1])\n",
        "        dic['Ds'] = np.array([0.01, 0.01])\n",
        "\n",
        "\n",
        "    # Add repeated fovs for the experiment\n",
        "    for _ in range(NUM_FOVS):\n",
        "        dics.append(dic)"
      ],
      "metadata": {
        "id": "cztMUg_G9GKT"
      },
      "execution_count": 6,
      "outputs": []
    },
    {
      "cell_type": "code",
      "source": [
        "MODELS"
      ],
      "metadata": {
        "colab": {
          "base_uri": "https://localhost:8080/"
        },
        "id": "bA2ksR9n5E5j",
        "outputId": "eec0b92c-21e1-49e1-926c-93ef1d968435"
      },
      "execution_count": 7,
      "outputs": [
        {
          "output_type": "execute_result",
          "data": {
            "text/plain": [
              "array([0])"
            ]
          },
          "metadata": {},
          "execution_count": 7
        }
      ]
    },
    {
      "cell_type": "code",
      "source": [
        "dfs_traj, labs_traj, labs_ens = challenge_phenom_dataset(save_data = True, # If to save the files\n",
        "                                                                dics = dics, # Dictionaries with the info of each experiment (and FOV in this case)\n",
        "                                                                path = PATH, # Parent folder where to save all data\n",
        "\n",
        "                                                                num_fovs = 1, # Number of FOVs\n",
        "                                                                num_vip=10, # Number of VIP particles\n",
        "                                                                files_reorg = True, # We reorganize the folders for challenge structure\n",
        "                                                                path_reorg = 'ref/', # Folder inside PATH where to reorganized\n",
        "                                                                save_labels_reorg = True, # The labels for the two tasks will also be saved in the reorganization\n",
        "                                                                delete_raw = True # If deleting the original raw dataset\n",
        "                                                                )"
      ],
      "metadata": {
        "colab": {
          "base_uri": "https://localhost:8080/",
          "height": 1000,
          "referenced_widgets": [
            "dc9113a53d9048b2913262b08d334e76",
            "024bf2bbbb764586b0b8e4da771ac62b",
            "39843a066ecf46948a8b08a7dd6efc71",
            "27b284bc39c6492b8ef5e7b9c8842fc4",
            "9043b46c41324fed91e387dad9782d16",
            "16925aec9ba548a7a42ca7246dbbaf78",
            "e3eec8235b3942778307df690fb9204c",
            "5c719951d43d494cbf5022f9669d8e87",
            "2107f932fc2e4560b5aa72326fbb726c",
            "fbede57ce37d47a092ed225f0b6f355e",
            "88973d95bc5146cdabf7a7a34b69d428"
          ]
        },
        "id": "u6BANQ0W5R9z",
        "outputId": "7ae8d125-b7be-4564-9005-0b21fa53a75e"
      },
      "execution_count": 80,
      "outputs": [
        {
          "output_type": "display_data",
          "data": {
            "text/plain": [
              "  0%|          | 0/60 [00:00<?, ?it/s]"
            ],
            "application/vnd.jupyter.widget-view+json": {
              "version_major": 2,
              "version_minor": 0,
              "model_id": "dc9113a53d9048b2913262b08d334e76"
            }
          },
          "metadata": {}
        },
        {
          "output_type": "stream",
          "name": "stdout",
          "text": [
            "Creating dataset for Exp_0 (single_state).\n",
            "Creating dataset for Exp_1 (single_state).\n",
            "Creating dataset for Exp_2 (single_state).\n",
            "Creating dataset for Exp_3 (single_state).\n",
            "Creating dataset for Exp_4 (single_state).\n",
            "Creating dataset for Exp_5 (single_state).\n",
            "Creating dataset for Exp_6 (single_state).\n",
            "Creating dataset for Exp_7 (single_state).\n",
            "Creating dataset for Exp_8 (single_state).\n",
            "Creating dataset for Exp_9 (single_state).\n",
            "Creating dataset for Exp_10 (single_state).\n",
            "Creating dataset for Exp_11 (single_state).\n",
            "Creating dataset for Exp_12 (single_state).\n",
            "Creating dataset for Exp_13 (single_state).\n",
            "Creating dataset for Exp_14 (single_state).\n",
            "Creating dataset for Exp_15 (single_state).\n",
            "Creating dataset for Exp_16 (single_state).\n",
            "Creating dataset for Exp_17 (single_state).\n",
            "Creating dataset for Exp_18 (single_state).\n",
            "Creating dataset for Exp_19 (single_state).\n",
            "Creating dataset for Exp_20 (single_state).\n",
            "Creating dataset for Exp_21 (single_state).\n",
            "Creating dataset for Exp_22 (single_state).\n",
            "Creating dataset for Exp_23 (single_state).\n",
            "Creating dataset for Exp_24 (single_state).\n",
            "Creating dataset for Exp_25 (single_state).\n",
            "Creating dataset for Exp_26 (single_state).\n",
            "Creating dataset for Exp_27 (single_state).\n",
            "Creating dataset for Exp_28 (single_state).\n",
            "Creating dataset for Exp_29 (single_state).\n",
            "Creating dataset for Exp_30 (single_state).\n",
            "Creating dataset for Exp_31 (single_state).\n",
            "Creating dataset for Exp_32 (single_state).\n",
            "Creating dataset for Exp_33 (single_state).\n",
            "Creating dataset for Exp_34 (single_state).\n",
            "Creating dataset for Exp_35 (single_state).\n",
            "Creating dataset for Exp_36 (single_state).\n",
            "Creating dataset for Exp_37 (single_state).\n",
            "Creating dataset for Exp_38 (single_state).\n",
            "Creating dataset for Exp_39 (single_state).\n",
            "Creating dataset for Exp_40 (single_state).\n",
            "Creating dataset for Exp_41 (single_state).\n",
            "Creating dataset for Exp_42 (single_state).\n",
            "Creating dataset for Exp_43 (single_state).\n",
            "Creating dataset for Exp_44 (single_state).\n",
            "Creating dataset for Exp_45 (single_state).\n",
            "Creating dataset for Exp_46 (single_state).\n",
            "Creating dataset for Exp_47 (single_state).\n",
            "Creating dataset for Exp_48 (single_state).\n",
            "Creating dataset for Exp_49 (single_state).\n",
            "Creating dataset for Exp_50 (single_state).\n",
            "Creating dataset for Exp_51 (single_state).\n",
            "Creating dataset for Exp_52 (single_state).\n",
            "Creating dataset for Exp_53 (single_state).\n",
            "Creating dataset for Exp_54 (single_state).\n",
            "Creating dataset for Exp_55 (single_state).\n",
            "Creating dataset for Exp_56 (single_state).\n",
            "Creating dataset for Exp_57 (single_state).\n",
            "Creating dataset for Exp_58 (single_state).\n",
            "Creating dataset for Exp_59 (single_state).\n"
          ]
        }
      ]
    },
    {
      "cell_type": "code",
      "source": [
        "dfs_traj[0]"
      ],
      "metadata": {
        "colab": {
          "base_uri": "https://localhost:8080/",
          "height": 423
        },
        "id": "rL13Fecl5emd",
        "outputId": "191d59e9-d811-4269-c946-467dee6cb060"
      },
      "execution_count": 81,
      "outputs": [
        {
          "output_type": "execute_result",
          "data": {
            "text/plain": [
              "      traj_idx  frame           x          y\n",
              "0          0.0  117.0  207.293228  24.012350\n",
              "1          0.0  118.0  207.455854  23.816246\n",
              "2          0.0  119.0  207.221884  23.649520\n",
              "3          0.0  120.0  208.964227  23.341389\n",
              "4          0.0  121.0  208.716672  25.648786\n",
              "...        ...    ...         ...        ...\n",
              "5640      37.0  195.0  160.510163  94.636454\n",
              "5641      37.0  196.0  159.001391  95.050213\n",
              "5642      37.0  197.0  157.629891  95.083858\n",
              "5643      37.0  198.0  157.493789  96.188235\n",
              "5644      37.0  199.0  156.793114  93.436019\n",
              "\n",
              "[5645 rows x 4 columns]"
            ],
            "text/html": [
              "\n",
              "  <div id=\"df-8365de71-3535-4d3a-858d-6e0ba6572ec7\" class=\"colab-df-container\">\n",
              "    <div>\n",
              "<style scoped>\n",
              "    .dataframe tbody tr th:only-of-type {\n",
              "        vertical-align: middle;\n",
              "    }\n",
              "\n",
              "    .dataframe tbody tr th {\n",
              "        vertical-align: top;\n",
              "    }\n",
              "\n",
              "    .dataframe thead th {\n",
              "        text-align: right;\n",
              "    }\n",
              "</style>\n",
              "<table border=\"1\" class=\"dataframe\">\n",
              "  <thead>\n",
              "    <tr style=\"text-align: right;\">\n",
              "      <th></th>\n",
              "      <th>traj_idx</th>\n",
              "      <th>frame</th>\n",
              "      <th>x</th>\n",
              "      <th>y</th>\n",
              "    </tr>\n",
              "  </thead>\n",
              "  <tbody>\n",
              "    <tr>\n",
              "      <th>0</th>\n",
              "      <td>0.0</td>\n",
              "      <td>117.0</td>\n",
              "      <td>207.293228</td>\n",
              "      <td>24.012350</td>\n",
              "    </tr>\n",
              "    <tr>\n",
              "      <th>1</th>\n",
              "      <td>0.0</td>\n",
              "      <td>118.0</td>\n",
              "      <td>207.455854</td>\n",
              "      <td>23.816246</td>\n",
              "    </tr>\n",
              "    <tr>\n",
              "      <th>2</th>\n",
              "      <td>0.0</td>\n",
              "      <td>119.0</td>\n",
              "      <td>207.221884</td>\n",
              "      <td>23.649520</td>\n",
              "    </tr>\n",
              "    <tr>\n",
              "      <th>3</th>\n",
              "      <td>0.0</td>\n",
              "      <td>120.0</td>\n",
              "      <td>208.964227</td>\n",
              "      <td>23.341389</td>\n",
              "    </tr>\n",
              "    <tr>\n",
              "      <th>4</th>\n",
              "      <td>0.0</td>\n",
              "      <td>121.0</td>\n",
              "      <td>208.716672</td>\n",
              "      <td>25.648786</td>\n",
              "    </tr>\n",
              "    <tr>\n",
              "      <th>...</th>\n",
              "      <td>...</td>\n",
              "      <td>...</td>\n",
              "      <td>...</td>\n",
              "      <td>...</td>\n",
              "    </tr>\n",
              "    <tr>\n",
              "      <th>5640</th>\n",
              "      <td>37.0</td>\n",
              "      <td>195.0</td>\n",
              "      <td>160.510163</td>\n",
              "      <td>94.636454</td>\n",
              "    </tr>\n",
              "    <tr>\n",
              "      <th>5641</th>\n",
              "      <td>37.0</td>\n",
              "      <td>196.0</td>\n",
              "      <td>159.001391</td>\n",
              "      <td>95.050213</td>\n",
              "    </tr>\n",
              "    <tr>\n",
              "      <th>5642</th>\n",
              "      <td>37.0</td>\n",
              "      <td>197.0</td>\n",
              "      <td>157.629891</td>\n",
              "      <td>95.083858</td>\n",
              "    </tr>\n",
              "    <tr>\n",
              "      <th>5643</th>\n",
              "      <td>37.0</td>\n",
              "      <td>198.0</td>\n",
              "      <td>157.493789</td>\n",
              "      <td>96.188235</td>\n",
              "    </tr>\n",
              "    <tr>\n",
              "      <th>5644</th>\n",
              "      <td>37.0</td>\n",
              "      <td>199.0</td>\n",
              "      <td>156.793114</td>\n",
              "      <td>93.436019</td>\n",
              "    </tr>\n",
              "  </tbody>\n",
              "</table>\n",
              "<p>5645 rows × 4 columns</p>\n",
              "</div>\n",
              "    <div class=\"colab-df-buttons\">\n",
              "\n",
              "  <div class=\"colab-df-container\">\n",
              "    <button class=\"colab-df-convert\" onclick=\"convertToInteractive('df-8365de71-3535-4d3a-858d-6e0ba6572ec7')\"\n",
              "            title=\"Convert this dataframe to an interactive table.\"\n",
              "            style=\"display:none;\">\n",
              "\n",
              "  <svg xmlns=\"http://www.w3.org/2000/svg\" height=\"24px\" viewBox=\"0 -960 960 960\">\n",
              "    <path d=\"M120-120v-720h720v720H120Zm60-500h600v-160H180v160Zm220 220h160v-160H400v160Zm0 220h160v-160H400v160ZM180-400h160v-160H180v160Zm440 0h160v-160H620v160ZM180-180h160v-160H180v160Zm440 0h160v-160H620v160Z\"/>\n",
              "  </svg>\n",
              "    </button>\n",
              "\n",
              "  <style>\n",
              "    .colab-df-container {\n",
              "      display:flex;\n",
              "      gap: 12px;\n",
              "    }\n",
              "\n",
              "    .colab-df-convert {\n",
              "      background-color: #E8F0FE;\n",
              "      border: none;\n",
              "      border-radius: 50%;\n",
              "      cursor: pointer;\n",
              "      display: none;\n",
              "      fill: #1967D2;\n",
              "      height: 32px;\n",
              "      padding: 0 0 0 0;\n",
              "      width: 32px;\n",
              "    }\n",
              "\n",
              "    .colab-df-convert:hover {\n",
              "      background-color: #E2EBFA;\n",
              "      box-shadow: 0px 1px 2px rgba(60, 64, 67, 0.3), 0px 1px 3px 1px rgba(60, 64, 67, 0.15);\n",
              "      fill: #174EA6;\n",
              "    }\n",
              "\n",
              "    .colab-df-buttons div {\n",
              "      margin-bottom: 4px;\n",
              "    }\n",
              "\n",
              "    [theme=dark] .colab-df-convert {\n",
              "      background-color: #3B4455;\n",
              "      fill: #D2E3FC;\n",
              "    }\n",
              "\n",
              "    [theme=dark] .colab-df-convert:hover {\n",
              "      background-color: #434B5C;\n",
              "      box-shadow: 0px 1px 3px 1px rgba(0, 0, 0, 0.15);\n",
              "      filter: drop-shadow(0px 1px 2px rgba(0, 0, 0, 0.3));\n",
              "      fill: #FFFFFF;\n",
              "    }\n",
              "  </style>\n",
              "\n",
              "    <script>\n",
              "      const buttonEl =\n",
              "        document.querySelector('#df-8365de71-3535-4d3a-858d-6e0ba6572ec7 button.colab-df-convert');\n",
              "      buttonEl.style.display =\n",
              "        google.colab.kernel.accessAllowed ? 'block' : 'none';\n",
              "\n",
              "      async function convertToInteractive(key) {\n",
              "        const element = document.querySelector('#df-8365de71-3535-4d3a-858d-6e0ba6572ec7');\n",
              "        const dataTable =\n",
              "          await google.colab.kernel.invokeFunction('convertToInteractive',\n",
              "                                                    [key], {});\n",
              "        if (!dataTable) return;\n",
              "\n",
              "        const docLinkHtml = 'Like what you see? Visit the ' +\n",
              "          '<a target=\"_blank\" href=https://colab.research.google.com/notebooks/data_table.ipynb>data table notebook</a>'\n",
              "          + ' to learn more about interactive tables.';\n",
              "        element.innerHTML = '';\n",
              "        dataTable['output_type'] = 'display_data';\n",
              "        await google.colab.output.renderOutput(dataTable, element);\n",
              "        const docLink = document.createElement('div');\n",
              "        docLink.innerHTML = docLinkHtml;\n",
              "        element.appendChild(docLink);\n",
              "      }\n",
              "    </script>\n",
              "  </div>\n",
              "\n",
              "\n",
              "<div id=\"df-2b72a188-9596-43e3-8c28-481e2f2b24ca\">\n",
              "  <button class=\"colab-df-quickchart\" onclick=\"quickchart('df-2b72a188-9596-43e3-8c28-481e2f2b24ca')\"\n",
              "            title=\"Suggest charts\"\n",
              "            style=\"display:none;\">\n",
              "\n",
              "<svg xmlns=\"http://www.w3.org/2000/svg\" height=\"24px\"viewBox=\"0 0 24 24\"\n",
              "     width=\"24px\">\n",
              "    <g>\n",
              "        <path d=\"M19 3H5c-1.1 0-2 .9-2 2v14c0 1.1.9 2 2 2h14c1.1 0 2-.9 2-2V5c0-1.1-.9-2-2-2zM9 17H7v-7h2v7zm4 0h-2V7h2v10zm4 0h-2v-4h2v4z\"/>\n",
              "    </g>\n",
              "</svg>\n",
              "  </button>\n",
              "\n",
              "<style>\n",
              "  .colab-df-quickchart {\n",
              "      --bg-color: #E8F0FE;\n",
              "      --fill-color: #1967D2;\n",
              "      --hover-bg-color: #E2EBFA;\n",
              "      --hover-fill-color: #174EA6;\n",
              "      --disabled-fill-color: #AAA;\n",
              "      --disabled-bg-color: #DDD;\n",
              "  }\n",
              "\n",
              "  [theme=dark] .colab-df-quickchart {\n",
              "      --bg-color: #3B4455;\n",
              "      --fill-color: #D2E3FC;\n",
              "      --hover-bg-color: #434B5C;\n",
              "      --hover-fill-color: #FFFFFF;\n",
              "      --disabled-bg-color: #3B4455;\n",
              "      --disabled-fill-color: #666;\n",
              "  }\n",
              "\n",
              "  .colab-df-quickchart {\n",
              "    background-color: var(--bg-color);\n",
              "    border: none;\n",
              "    border-radius: 50%;\n",
              "    cursor: pointer;\n",
              "    display: none;\n",
              "    fill: var(--fill-color);\n",
              "    height: 32px;\n",
              "    padding: 0;\n",
              "    width: 32px;\n",
              "  }\n",
              "\n",
              "  .colab-df-quickchart:hover {\n",
              "    background-color: var(--hover-bg-color);\n",
              "    box-shadow: 0 1px 2px rgba(60, 64, 67, 0.3), 0 1px 3px 1px rgba(60, 64, 67, 0.15);\n",
              "    fill: var(--button-hover-fill-color);\n",
              "  }\n",
              "\n",
              "  .colab-df-quickchart-complete:disabled,\n",
              "  .colab-df-quickchart-complete:disabled:hover {\n",
              "    background-color: var(--disabled-bg-color);\n",
              "    fill: var(--disabled-fill-color);\n",
              "    box-shadow: none;\n",
              "  }\n",
              "\n",
              "  .colab-df-spinner {\n",
              "    border: 2px solid var(--fill-color);\n",
              "    border-color: transparent;\n",
              "    border-bottom-color: var(--fill-color);\n",
              "    animation:\n",
              "      spin 1s steps(1) infinite;\n",
              "  }\n",
              "\n",
              "  @keyframes spin {\n",
              "    0% {\n",
              "      border-color: transparent;\n",
              "      border-bottom-color: var(--fill-color);\n",
              "      border-left-color: var(--fill-color);\n",
              "    }\n",
              "    20% {\n",
              "      border-color: transparent;\n",
              "      border-left-color: var(--fill-color);\n",
              "      border-top-color: var(--fill-color);\n",
              "    }\n",
              "    30% {\n",
              "      border-color: transparent;\n",
              "      border-left-color: var(--fill-color);\n",
              "      border-top-color: var(--fill-color);\n",
              "      border-right-color: var(--fill-color);\n",
              "    }\n",
              "    40% {\n",
              "      border-color: transparent;\n",
              "      border-right-color: var(--fill-color);\n",
              "      border-top-color: var(--fill-color);\n",
              "    }\n",
              "    60% {\n",
              "      border-color: transparent;\n",
              "      border-right-color: var(--fill-color);\n",
              "    }\n",
              "    80% {\n",
              "      border-color: transparent;\n",
              "      border-right-color: var(--fill-color);\n",
              "      border-bottom-color: var(--fill-color);\n",
              "    }\n",
              "    90% {\n",
              "      border-color: transparent;\n",
              "      border-bottom-color: var(--fill-color);\n",
              "    }\n",
              "  }\n",
              "</style>\n",
              "\n",
              "  <script>\n",
              "    async function quickchart(key) {\n",
              "      const quickchartButtonEl =\n",
              "        document.querySelector('#' + key + ' button');\n",
              "      quickchartButtonEl.disabled = true;  // To prevent multiple clicks.\n",
              "      quickchartButtonEl.classList.add('colab-df-spinner');\n",
              "      try {\n",
              "        const charts = await google.colab.kernel.invokeFunction(\n",
              "            'suggestCharts', [key], {});\n",
              "      } catch (error) {\n",
              "        console.error('Error during call to suggestCharts:', error);\n",
              "      }\n",
              "      quickchartButtonEl.classList.remove('colab-df-spinner');\n",
              "      quickchartButtonEl.classList.add('colab-df-quickchart-complete');\n",
              "    }\n",
              "    (() => {\n",
              "      let quickchartButtonEl =\n",
              "        document.querySelector('#df-2b72a188-9596-43e3-8c28-481e2f2b24ca button');\n",
              "      quickchartButtonEl.style.display =\n",
              "        google.colab.kernel.accessAllowed ? 'block' : 'none';\n",
              "    })();\n",
              "  </script>\n",
              "</div>\n",
              "    </div>\n",
              "  </div>\n"
            ],
            "application/vnd.google.colaboratory.intrinsic+json": {
              "type": "dataframe",
              "summary": "{\n  \"name\": \"dfs_traj[0]\",\n  \"rows\": 5645,\n  \"fields\": [\n    {\n      \"column\": \"traj_idx\",\n      \"properties\": {\n        \"dtype\": \"number\",\n        \"std\": 11.676704039390712,\n        \"min\": 0.0,\n        \"max\": 37.0,\n        \"num_unique_values\": 38,\n        \"samples\": [\n          33.0,\n          36.0,\n          4.0\n        ],\n        \"semantic_type\": \"\",\n        \"description\": \"\"\n      }\n    },\n    {\n      \"column\": \"frame\",\n      \"properties\": {\n        \"dtype\": \"number\",\n        \"std\": 56.634118157326085,\n        \"min\": 0.0,\n        \"max\": 199.0,\n        \"num_unique_values\": 200,\n        \"samples\": [\n          12.0,\n          132.0,\n          147.0\n        ],\n        \"semantic_type\": \"\",\n        \"description\": \"\"\n      }\n    },\n    {\n      \"column\": \"x\",\n      \"properties\": {\n        \"dtype\": \"number\",\n        \"std\": 35.65099983799941,\n        \"min\": 81.11379458057806,\n        \"max\": 208.96422725753223,\n        \"num_unique_values\": 5645,\n        \"samples\": [\n          106.5282339887258,\n          184.5635282730466,\n          202.04012565050118\n        ],\n        \"semantic_type\": \"\",\n        \"description\": \"\"\n      }\n    },\n    {\n      \"column\": \"y\",\n      \"properties\": {\n        \"dtype\": \"number\",\n        \"std\": 39.3388557797122,\n        \"min\": 20.88311677706762,\n        \"max\": 148.8900868434381,\n        \"num_unique_values\": 5645,\n        \"samples\": [\n          39.58925703528416,\n          81.01703388000895,\n          133.09634590309577\n        ],\n        \"semantic_type\": \"\",\n        \"description\": \"\"\n      }\n    }\n  ]\n}"
            }
          },
          "metadata": {},
          "execution_count": 81
        }
      ]
    },
    {
      "cell_type": "markdown",
      "source": [
        "________________________________________________________________\n",
        "_______________________________________________________________________"
      ],
      "metadata": {
        "id": "ZQ_rlNSww6U1"
      }
    },
    {
      "cell_type": "markdown",
      "source": [
        "** cargar los datos desde el directorio **"
      ],
      "metadata": {
        "id": "2lYcj8rHw84U"
      }
    },
    {
      "cell_type": "code",
      "source": [
        "\"\"\"import glob\n",
        "\n",
        "def load_trajectory_data_from_folder(folder_path):\n",
        "    all_trajectory_data = []\n",
        "    file_paths = glob.glob(os.path.join(folder_path, '*.csv'))\n",
        "    for file_path in file_paths:\n",
        "        trajectory_data = pd.read_excel(file_path)\n",
        "        all_trajectory_data.append(trajectory_data)\n",
        "    return all_trajectory_data\n",
        "\n",
        "# Nombre de la carpeta que contiene los archivos de datos de trayectoria\n",
        "folder_path = '/content/drive/MyDrive/andi2_dataset/ref/track_2/exp_0'\n",
        "\n",
        "# Cargar datos de trayectorias desde los archivos Excel en la carpeta especificada\n",
        "trajectory_data_list = load_trajectory_data_from_folder(folder_path)\"\"\""
      ],
      "metadata": {
        "id": "hKcaXssIxDH7"
      },
      "execution_count": null,
      "outputs": []
    },
    {
      "cell_type": "code",
      "source": [
        "import glob\n",
        "import os\n",
        "import pandas as pd\n",
        "\n",
        "def load_trajectory_data_from_folders(main_folder):\n",
        "    all_trajectory_data = []\n",
        "    folder_names = os.listdir(main_folder)\n",
        "    for folder_name in folder_names:\n",
        "        folder_path = os.path.join(main_folder, folder_name)\n",
        "        if os.path.isdir(folder_path):\n",
        "            file_paths = glob.glob(os.path.join(folder_path, '*.csv'))\n",
        "            for file_path in file_paths:\n",
        "                trajectory_data = pd.read_csv(file_path)\n",
        "                all_trajectory_data.append(trajectory_data)\n",
        "    return all_trajectory_data\n",
        "\n",
        "# Ruta de la carpeta principal que contiene las subcarpetas con archivos csv\n",
        "main_folder = '/content/drive/MyDrive/andi2_dataset6/ref/track_2'\n",
        "\n",
        "# Cargar datos de trayectorias desde las subcarpetas con archivos csv\n",
        "trajectory_data_list = load_trajectory_data_from_folders(main_folder)"
      ],
      "metadata": {
        "id": "Kft5W89OyFF8"
      },
      "execution_count": 8,
      "outputs": []
    },
    {
      "cell_type": "code",
      "source": [
        "len(trajectory_data_list)"
      ],
      "metadata": {
        "colab": {
          "base_uri": "https://localhost:8080/"
        },
        "id": "myD0cNyWyPyb",
        "outputId": "b2705264-15a8-4bbc-895b-24962d49663e"
      },
      "execution_count": 9,
      "outputs": [
        {
          "output_type": "execute_result",
          "data": {
            "text/plain": [
              "60"
            ]
          },
          "metadata": {},
          "execution_count": 9
        }
      ]
    },
    {
      "cell_type": "markdown",
      "source": [
        "______________________________________________________________\n",
        "______________________________________________________________\n",
        "______________________________________________________________"
      ],
      "metadata": {
        "id": "rXmDhEBQzdRd"
      }
    },
    {
      "cell_type": "markdown",
      "source": [
        "en este primer codigo se tranforma los datos de los archivos csv que contiene las traj, frame, posiciones x e y. la salida contiene x, edge_index y edge attr, pero toma encuenta como si todo el archivo csv fuera un grafo."
      ],
      "metadata": {
        "id": "NrPZRZlrWAfx"
      }
    },
    {
      "cell_type": "code",
      "source": [
        "import numpy as np\n",
        "import torch\n",
        "from skimage import measure\n",
        "from torch_geometric.data import Data\n",
        "\n",
        "class GraphFromTrajectoryData:\n",
        "    \"\"\"Graph representation of particle trajectories.\"\"\"\n",
        "\n",
        "    def __init__(self, connectivity_radius, max_frame_distance):\n",
        "        \"\"\"Initialize graph constructor.\"\"\"\n",
        "        self.connectivity_radius = connectivity_radius\n",
        "        self.max_frame_distance = max_frame_distance\n",
        "\n",
        "    def __call__(self, trajectories):\n",
        "        \"\"\"Construct graph from trajectories.\"\"\"\n",
        "        x, edge_index, edge_attr = [], [], []\n",
        "\n",
        "        # Process trajectories\n",
        "        for traj_idx, trajectory in trajectories.groupby('traj_idx'):\n",
        "            features, index_labels = self.compute_node_features(trajectory)\n",
        "            x.extend(features)\n",
        "            node_indices = np.arange(len(features)) + len(x) - len(features)\n",
        "            edge_index_traj, edge_attr_traj = self.compute_connectivity(features, node_indices)\n",
        "            edge_index.extend(edge_index_traj)\n",
        "            edge_attr.extend(edge_attr_traj)\n",
        "\n",
        "        x = torch.tensor(x, dtype=torch.float)\n",
        "        edge_index = torch.tensor(edge_index, dtype=torch.long).t().contiguous()\n",
        "        edge_attr = torch.tensor(edge_attr, dtype=torch.float).view(-1, 1)\n",
        "\n",
        "        # Construct Data object\n",
        "        graph = Data(x=x, edge_index=edge_index, edge_attr=edge_attr)\n",
        "\n",
        "        return graph\n",
        "\n",
        "    def compute_node_features(self, trajectory):\n",
        "        \"\"\"Compute node features.\"\"\"\n",
        "        centroids = trajectory[['x', 'y']].mean(axis=0).values\n",
        "        eccentricity = np.std(trajectory[['x', 'y']], axis=0).sum() / np.sqrt(2)\n",
        "        features = np.hstack([centroids, eccentricity])\n",
        "        return [features], [trajectory['traj_idx'].iloc[0]]\n",
        "\n",
        "    def compute_connectivity(self, features, node_indices):\n",
        "        \"\"\"Compute connectivity.\"\"\"\n",
        "        edge_index = []\n",
        "        edge_attr = []\n",
        "        num_nodes = len(features)\n",
        "\n",
        "        for i in range(num_nodes):\n",
        "            for j in range(i + 1, num_nodes):\n",
        "                distance = np.linalg.norm(features[i][:2] - features[j][:2])\n",
        "                if distance < self.connectivity_radius:\n",
        "                    edge_index.append([node_indices[i], node_indices[j]])\n",
        "                    edge_attr.append(distance)\n",
        "\n",
        "        return edge_index, edge_attr\n",
        "\n",
        "    def compute_ground_truth(self, indices, edge_index, relation):\n",
        "        \"\"\"Compute ground truth.\"\"\"\n",
        "        sender = indices[edge_index[:, 0]]\n",
        "        receiver = indices[edge_index[:, 1]]\n",
        "        self_connections_mask = sender == receiver\n",
        "\n",
        "        relation_indices = relation[:, [-1, 0]]\n",
        "        relation_indices = relation_indices[relation_indices[:, 0] != 0]\n",
        "\n",
        "        relation_mask = np.zeros(len(edge_index), dtype=bool)\n",
        "        for i, (s, r) in enumerate(zip(sender, receiver)):\n",
        "            if np.any((relation_indices == [s, r]).all(1)):\n",
        "                relation_mask[i] = True\n",
        "\n",
        "        ground_truth = self_connections_mask | relation_mask\n",
        "\n",
        "        return ground_truth"
      ],
      "metadata": {
        "id": "zzyisb8WMC4i"
      },
      "execution_count": 10,
      "outputs": []
    },
    {
      "cell_type": "code",
      "source": [
        "trajectory_graphs = []\n",
        "\n",
        "# Aquí iría el código para cargar tus datos de trayectorias en `trajectory_data_list`\n",
        "\n",
        "# Luego, iteras sobre cada DataFrame en la lista y construyes los grafos\n",
        "for trajectory_data in trajectory_data_list:\n",
        "    # Construir el grafo a partir de los datos de trayectoria\n",
        "    graph = GraphFromTrajectoryData(connectivity_radius=0.2, max_frame_distance=2)(trajectory_data)\n",
        "    trajectory_graphs.append(graph)"
      ],
      "metadata": {
        "id": "5T-NmQsYVuKB"
      },
      "execution_count": 13,
      "outputs": []
    },
    {
      "cell_type": "code",
      "source": [
        "trajectory_graphs"
      ],
      "metadata": {
        "colab": {
          "base_uri": "https://localhost:8080/"
        },
        "id": "bbJUy-E2Vzg-",
        "outputId": "95ef3a93-e11d-43b7-b477-aa93840d8ef2"
      },
      "execution_count": 14,
      "outputs": [
        {
          "output_type": "execute_result",
          "data": {
            "text/plain": [
              "[Data(x=[38, 3], edge_index=[0], edge_attr=[0, 1]),\n",
              " Data(x=[31, 3], edge_index=[0], edge_attr=[0, 1]),\n",
              " Data(x=[38, 3], edge_index=[0], edge_attr=[0, 1]),\n",
              " Data(x=[38, 3], edge_index=[0], edge_attr=[0, 1]),\n",
              " Data(x=[44, 3], edge_index=[0], edge_attr=[0, 1]),\n",
              " Data(x=[44, 3], edge_index=[0], edge_attr=[0, 1]),\n",
              " Data(x=[42, 3], edge_index=[0], edge_attr=[0, 1]),\n",
              " Data(x=[36, 3], edge_index=[0], edge_attr=[0, 1]),\n",
              " Data(x=[44, 3], edge_index=[0], edge_attr=[0, 1]),\n",
              " Data(x=[36, 3], edge_index=[0], edge_attr=[0, 1]),\n",
              " Data(x=[37, 3], edge_index=[0], edge_attr=[0, 1]),\n",
              " Data(x=[39, 3], edge_index=[0], edge_attr=[0, 1]),\n",
              " Data(x=[39, 3], edge_index=[0], edge_attr=[0, 1]),\n",
              " Data(x=[49, 3], edge_index=[0], edge_attr=[0, 1]),\n",
              " Data(x=[40, 3], edge_index=[0], edge_attr=[0, 1]),\n",
              " Data(x=[51, 3], edge_index=[0], edge_attr=[0, 1]),\n",
              " Data(x=[38, 3], edge_index=[0], edge_attr=[0, 1]),\n",
              " Data(x=[44, 3], edge_index=[0], edge_attr=[0, 1]),\n",
              " Data(x=[42, 3], edge_index=[0], edge_attr=[0, 1]),\n",
              " Data(x=[48, 3], edge_index=[0], edge_attr=[0, 1]),\n",
              " Data(x=[43, 3], edge_index=[0], edge_attr=[0, 1]),\n",
              " Data(x=[39, 3], edge_index=[0], edge_attr=[0, 1]),\n",
              " Data(x=[41, 3], edge_index=[0], edge_attr=[0, 1]),\n",
              " Data(x=[37, 3], edge_index=[0], edge_attr=[0, 1]),\n",
              " Data(x=[32, 3], edge_index=[0], edge_attr=[0, 1]),\n",
              " Data(x=[46, 3], edge_index=[0], edge_attr=[0, 1]),\n",
              " Data(x=[36, 3], edge_index=[0], edge_attr=[0, 1]),\n",
              " Data(x=[39, 3], edge_index=[0], edge_attr=[0, 1]),\n",
              " Data(x=[35, 3], edge_index=[0], edge_attr=[0, 1]),\n",
              " Data(x=[42, 3], edge_index=[0], edge_attr=[0, 1]),\n",
              " Data(x=[36, 3], edge_index=[0], edge_attr=[0, 1]),\n",
              " Data(x=[34, 3], edge_index=[0], edge_attr=[0, 1]),\n",
              " Data(x=[38, 3], edge_index=[0], edge_attr=[0, 1]),\n",
              " Data(x=[35, 3], edge_index=[0], edge_attr=[0, 1]),\n",
              " Data(x=[36, 3], edge_index=[0], edge_attr=[0, 1]),\n",
              " Data(x=[40, 3], edge_index=[0], edge_attr=[0, 1]),\n",
              " Data(x=[36, 3], edge_index=[0], edge_attr=[0, 1]),\n",
              " Data(x=[37, 3], edge_index=[0], edge_attr=[0, 1]),\n",
              " Data(x=[29, 3], edge_index=[0], edge_attr=[0, 1]),\n",
              " Data(x=[34, 3], edge_index=[0], edge_attr=[0, 1]),\n",
              " Data(x=[46, 3], edge_index=[0], edge_attr=[0, 1]),\n",
              " Data(x=[41, 3], edge_index=[0], edge_attr=[0, 1]),\n",
              " Data(x=[37, 3], edge_index=[0], edge_attr=[0, 1]),\n",
              " Data(x=[44, 3], edge_index=[0], edge_attr=[0, 1]),\n",
              " Data(x=[34, 3], edge_index=[0], edge_attr=[0, 1]),\n",
              " Data(x=[34, 3], edge_index=[0], edge_attr=[0, 1]),\n",
              " Data(x=[39, 3], edge_index=[0], edge_attr=[0, 1]),\n",
              " Data(x=[45, 3], edge_index=[0], edge_attr=[0, 1]),\n",
              " Data(x=[35, 3], edge_index=[0], edge_attr=[0, 1]),\n",
              " Data(x=[31, 3], edge_index=[0], edge_attr=[0, 1]),\n",
              " Data(x=[38, 3], edge_index=[0], edge_attr=[0, 1]),\n",
              " Data(x=[45, 3], edge_index=[0], edge_attr=[0, 1]),\n",
              " Data(x=[49, 3], edge_index=[0], edge_attr=[0, 1]),\n",
              " Data(x=[39, 3], edge_index=[0], edge_attr=[0, 1]),\n",
              " Data(x=[36, 3], edge_index=[0], edge_attr=[0, 1]),\n",
              " Data(x=[34, 3], edge_index=[0], edge_attr=[0, 1]),\n",
              " Data(x=[30, 3], edge_index=[0], edge_attr=[0, 1]),\n",
              " Data(x=[37, 3], edge_index=[0], edge_attr=[0, 1]),\n",
              " Data(x=[45, 3], edge_index=[0], edge_attr=[0, 1]),\n",
              " Data(x=[33, 3], edge_index=[0], edge_attr=[0, 1])]"
            ]
          },
          "metadata": {},
          "execution_count": 14
        }
      ]
    },
    {
      "cell_type": "code",
      "source": [
        "len(trajectory_graphs)"
      ],
      "metadata": {
        "colab": {
          "base_uri": "https://localhost:8080/"
        },
        "id": "mjHLQ9NPV7Tp",
        "outputId": "757a92f0-610b-4681-c9f4-e960e8f99ed1"
      },
      "execution_count": 15,
      "outputs": [
        {
          "output_type": "execute_result",
          "data": {
            "text/plain": [
              "60"
            ]
          },
          "metadata": {},
          "execution_count": 15
        }
      ]
    },
    {
      "cell_type": "markdown",
      "source": [
        "____________________________________________________________________\n",
        "_____________________________________________________________________\n",
        "____________________________________________________________________"
      ],
      "metadata": {
        "id": "WUhsYnnmWc7b"
      }
    },
    {
      "cell_type": "markdown",
      "source": [
        "en este codigo se corrige para que la clase GraphFromTrajectoryData: tome encuenta que dentro del archivo csv, todos los que pertenecen a una misma trayectoria indicada por traj, se consideren un grafo."
      ],
      "metadata": {
        "id": "o8T7IdenWlLb"
      }
    },
    {
      "cell_type": "code",
      "source": [
        "import numpy as np\n",
        "import torch\n",
        "from skimage import measure\n",
        "from torch_geometric.data import Data\n",
        "\n",
        "class GraphFromTrajectoryData:\n",
        "    \"\"\"Graph representation of particle trajectories.\"\"\"\n",
        "\n",
        "    def __init__(self, connectivity_radius, max_frame_distance):\n",
        "        \"\"\"Initialize graph constructor.\"\"\"\n",
        "        self.connectivity_radius = connectivity_radius\n",
        "        self.max_frame_distance = max_frame_distance\n",
        "\n",
        "    def __call__(self, trajectories):\n",
        "        \"\"\"Construct graphs from trajectories.\"\"\"\n",
        "        graphs = []\n",
        "\n",
        "        # Process trajectories group by traj_idx\n",
        "        for traj_idx, trajectory_group in trajectories.groupby('traj_idx'):\n",
        "            graph = self.construct_graph(trajectory_group)\n",
        "            graphs.append(graph)\n",
        "\n",
        "        return graphs\n",
        "\n",
        "    def construct_graph(self, trajectory_group):\n",
        "        \"\"\"Construct graph from a group of trajectories.\"\"\"\n",
        "        x, edge_index, edge_attr = [], [], []\n",
        "\n",
        "        # Compute node features\n",
        "        features, index_labels = self.compute_node_features(trajectory_group)\n",
        "        x.extend(features)\n",
        "        node_indices = np.arange(len(features))\n",
        "\n",
        "        # Compute connectivity\n",
        "        edge_index, edge_attr = self.compute_connectivity(features, node_indices)\n",
        "\n",
        "        x = torch.tensor(x, dtype=torch.float)\n",
        "        edge_index = torch.tensor(edge_index, dtype=torch.long).t().contiguous()\n",
        "        edge_attr = torch.tensor(edge_attr, dtype=torch.float).view(-1, 1)\n",
        "\n",
        "        # Construct Data object\n",
        "        graph = Data(x=x, edge_index=edge_index, edge_attr=edge_attr)\n",
        "\n",
        "        return graph\n",
        "\n",
        "    def compute_node_features(self, trajectory_group):\n",
        "        \"\"\"Compute node features.\"\"\"\n",
        "        centroids = trajectory_group[['x', 'y']].mean(axis=0).values\n",
        "        eccentricity = np.std(trajectory_group[['x', 'y']], axis=0).sum() / np.sqrt(2)\n",
        "        features = np.hstack([centroids, eccentricity])\n",
        "        return [features], [trajectory_group['traj_idx'].iloc[0]]\n",
        "\n",
        "    def compute_connectivity(self, features, node_indices):\n",
        "        \"\"\"Compute connectivity.\"\"\"\n",
        "        edge_index = []\n",
        "        edge_attr = []\n",
        "        num_nodes = len(features)\n",
        "\n",
        "        for i in range(num_nodes):\n",
        "            for j in range(i + 1, num_nodes):\n",
        "                distance = np.linalg.norm(features[i][:2] - features[j][:2])\n",
        "                if distance < self.connectivity_radius:\n",
        "                    edge_index.append([node_indices[i], node_indices[j]])\n",
        "                    edge_attr.append(distance)\n",
        "\n",
        "        return edge_index, edge_attr"
      ],
      "metadata": {
        "id": "4HJFSSroQzf5"
      },
      "execution_count": 16,
      "outputs": []
    },
    {
      "cell_type": "code",
      "source": [
        "trajectory_graphs = []\n",
        "\n",
        "# Aquí va el código para cargar los datos de trayectorias en `trajectory_data_list`\n",
        "\n",
        "# Luego, se itera sobre cada DataFrame en la lista y construyes los grafos\n",
        "for trajectory_data in trajectory_data_list:\n",
        "    # Construir el grafo a partir de los datos de trayectoria\n",
        "    graph = GraphFromTrajectoryData(connectivity_radius=0.2, max_frame_distance=2)(trajectory_data)\n",
        "    trajectory_graphs.append(graph)"
      ],
      "metadata": {
        "id": "uTzAQkqeMsEB"
      },
      "execution_count": 32,
      "outputs": []
    },
    {
      "cell_type": "code",
      "source": [
        "len(trajectory_graphs)"
      ],
      "metadata": {
        "colab": {
          "base_uri": "https://localhost:8080/"
        },
        "id": "0wpfbH3FQ6_q",
        "outputId": "796d674d-1931-49ea-9e4a-f936ea650225"
      },
      "execution_count": 33,
      "outputs": [
        {
          "output_type": "execute_result",
          "data": {
            "text/plain": [
              "60"
            ]
          },
          "metadata": {},
          "execution_count": 33
        }
      ]
    },
    {
      "cell_type": "code",
      "source": [
        "trajectory_graphs[0]"
      ],
      "metadata": {
        "colab": {
          "base_uri": "https://localhost:8080/"
        },
        "id": "JcL4WltErUqP",
        "outputId": "7194670d-6222-4e4b-dd79-d0573b964fa1"
      },
      "execution_count": 34,
      "outputs": [
        {
          "output_type": "execute_result",
          "data": {
            "text/plain": [
              "[Data(x=[1, 3], edge_index=[0], edge_attr=[0, 1]),\n",
              " Data(x=[1, 3], edge_index=[0], edge_attr=[0, 1]),\n",
              " Data(x=[1, 3], edge_index=[0], edge_attr=[0, 1]),\n",
              " Data(x=[1, 3], edge_index=[0], edge_attr=[0, 1]),\n",
              " Data(x=[1, 3], edge_index=[0], edge_attr=[0, 1]),\n",
              " Data(x=[1, 3], edge_index=[0], edge_attr=[0, 1]),\n",
              " Data(x=[1, 3], edge_index=[0], edge_attr=[0, 1]),\n",
              " Data(x=[1, 3], edge_index=[0], edge_attr=[0, 1]),\n",
              " Data(x=[1, 3], edge_index=[0], edge_attr=[0, 1]),\n",
              " Data(x=[1, 3], edge_index=[0], edge_attr=[0, 1]),\n",
              " Data(x=[1, 3], edge_index=[0], edge_attr=[0, 1]),\n",
              " Data(x=[1, 3], edge_index=[0], edge_attr=[0, 1]),\n",
              " Data(x=[1, 3], edge_index=[0], edge_attr=[0, 1]),\n",
              " Data(x=[1, 3], edge_index=[0], edge_attr=[0, 1]),\n",
              " Data(x=[1, 3], edge_index=[0], edge_attr=[0, 1]),\n",
              " Data(x=[1, 3], edge_index=[0], edge_attr=[0, 1]),\n",
              " Data(x=[1, 3], edge_index=[0], edge_attr=[0, 1]),\n",
              " Data(x=[1, 3], edge_index=[0], edge_attr=[0, 1]),\n",
              " Data(x=[1, 3], edge_index=[0], edge_attr=[0, 1]),\n",
              " Data(x=[1, 3], edge_index=[0], edge_attr=[0, 1]),\n",
              " Data(x=[1, 3], edge_index=[0], edge_attr=[0, 1]),\n",
              " Data(x=[1, 3], edge_index=[0], edge_attr=[0, 1]),\n",
              " Data(x=[1, 3], edge_index=[0], edge_attr=[0, 1]),\n",
              " Data(x=[1, 3], edge_index=[0], edge_attr=[0, 1]),\n",
              " Data(x=[1, 3], edge_index=[0], edge_attr=[0, 1]),\n",
              " Data(x=[1, 3], edge_index=[0], edge_attr=[0, 1]),\n",
              " Data(x=[1, 3], edge_index=[0], edge_attr=[0, 1]),\n",
              " Data(x=[1, 3], edge_index=[0], edge_attr=[0, 1]),\n",
              " Data(x=[1, 3], edge_index=[0], edge_attr=[0, 1]),\n",
              " Data(x=[1, 3], edge_index=[0], edge_attr=[0, 1]),\n",
              " Data(x=[1, 3], edge_index=[0], edge_attr=[0, 1]),\n",
              " Data(x=[1, 3], edge_index=[0], edge_attr=[0, 1]),\n",
              " Data(x=[1, 3], edge_index=[0], edge_attr=[0, 1]),\n",
              " Data(x=[1, 3], edge_index=[0], edge_attr=[0, 1]),\n",
              " Data(x=[1, 3], edge_index=[0], edge_attr=[0, 1]),\n",
              " Data(x=[1, 3], edge_index=[0], edge_attr=[0, 1]),\n",
              " Data(x=[1, 3], edge_index=[0], edge_attr=[0, 1]),\n",
              " Data(x=[1, 3], edge_index=[0], edge_attr=[0, 1])]"
            ]
          },
          "metadata": {},
          "execution_count": 34
        }
      ]
    },
    {
      "cell_type": "code",
      "source": [
        "trajectory_graphs[0][0]"
      ],
      "metadata": {
        "colab": {
          "base_uri": "https://localhost:8080/"
        },
        "id": "BIcY6abUreHG",
        "outputId": "3e22d620-4a23-4bd9-fa56-aa99034bf7e2"
      },
      "execution_count": 22,
      "outputs": [
        {
          "output_type": "execute_result",
          "data": {
            "text/plain": [
              "Data(x=[1, 3], edge_index=[0], edge_attr=[0, 1])"
            ]
          },
          "metadata": {},
          "execution_count": 22
        }
      ]
    }
  ]
}